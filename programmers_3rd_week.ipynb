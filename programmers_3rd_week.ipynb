{
 "cells": [
  {
   "cell_type": "code",
   "execution_count": 37,
   "metadata": {},
   "outputs": [],
   "source": [
    "def secret_map(n, arr1, arr2):\n",
    "    bin_arr1, bin_arr2 = [], []\n",
    "    for dec_num1, dec_num2 in zip(arr1, arr2):\n",
    "        bin_num1 = bin(dec_num1)[2:]\n",
    "        bin_num2 = bin(dec_num2)[2:]\n",
    "        if len(bin_num1) != n:\n",
    "            while len(bin_num1) < n:\n",
    "                bin_num1 = '0' + bin_num1\n",
    "        if len(bin_num2) != n:\n",
    "            while len(bin_num2) < n:\n",
    "                bin_num2 = '0' + bin_num2\n",
    "        bin_arr1.append(bin_num1)\n",
    "        bin_arr2.append(bin_num2)\n",
    "    \n",
    "    arr3 = []\n",
    "    for line1, line2 in zip(bin_arr1, bin_arr2):\n",
    "        num3 = ''\n",
    "        for num1, num2 in zip(line1, line2):\n",
    "            if num1 == '0' and num2 == '0':\n",
    "                num3 += ' '\n",
    "            else:\n",
    "                num3 += '#'\n",
    "        arr3.append(num3)\n",
    "        \n",
    "    answer = arr3\n",
    "    return answer"
   ]
  },
  {
   "cell_type": "code",
   "execution_count": 38,
   "metadata": {},
   "outputs": [
    {
     "data": {
      "text/plain": [
       "['#####', '# # #', '### #', '#  ##', '#####']"
      ]
     },
     "execution_count": 38,
     "metadata": {},
     "output_type": "execute_result"
    }
   ],
   "source": [
    "arr1_1=[9, 20, 28, 18, 11]\n",
    "arr2_1=[30, 1, 21, 17, 28]\n",
    "secret_map(5, arr1_1, arr2_1)"
   ]
  },
  {
   "cell_type": "code",
   "execution_count": 39,
   "metadata": {},
   "outputs": [
    {
     "data": {
      "text/plain": [
       "['######', '###  #', '##  ##', ' #### ', ' #####', '### # ']"
      ]
     },
     "execution_count": 39,
     "metadata": {},
     "output_type": "execute_result"
    }
   ],
   "source": [
    "arr1_2=[46, 33, 33 ,22, 31, 50]\n",
    "arr2_2=[27 ,56, 19, 14, 14, 10]\n",
    "secret_map(6,arr1_2,arr2_2)"
   ]
  },
  {
   "cell_type": "code",
   "execution_count": 33,
   "metadata": {},
   "outputs": [
    {
     "name": "stdout",
     "output_type": "stream",
     "text": [
      "0 0\n",
      "1 0\n",
      "1 1\n",
      "0 0\n",
      "1 1\n",
      "1 0\n"
     ]
    }
   ],
   "source": [
    "for i, j in zip('011011', '001010'):\n",
    "    print(i, j)"
   ]
  },
  {
   "cell_type": "code",
   "execution_count": 77,
   "metadata": {},
   "outputs": [],
   "source": [
    "def hate_same_num1(arr):\n",
    "    for idx in range(len(arr)-2,-1,-1):\n",
    "        if arr[idx] == arr[idx+1]:\n",
    "            arr.pop(idx+1)\n",
    "    answer = arr\n",
    "    return answer"
   ]
  },
  {
   "cell_type": "code",
   "execution_count": 78,
   "metadata": {},
   "outputs": [],
   "source": [
    "def hate_same_num2(arr):\n",
    "    for idx in reversed(range(0, len(arr)-1)):\n",
    "        if arr[idx] == arr[idx+1]:\n",
    "            arr.pop(idx+1)\n",
    "    answer = arr\n",
    "    return answer"
   ]
  },
  {
   "cell_type": "code",
   "execution_count": 101,
   "metadata": {},
   "outputs": [],
   "source": [
    "def hate_same_num3(arr):\n",
    "    arr2 = [arr[0]]\n",
    "    for idx in range(len(arr)-1):\n",
    "        if arr[idx] != arr[idx+1]:\n",
    "            arr2.append(arr[idx+1])\n",
    "    answer = arr2\n",
    "    return answer"
   ]
  },
  {
   "cell_type": "code",
   "execution_count": 102,
   "metadata": {},
   "outputs": [
    {
     "data": {
      "text/plain": [
       "[1, 3, 0, 1]"
      ]
     },
     "execution_count": 102,
     "metadata": {},
     "output_type": "execute_result"
    }
   ],
   "source": [
    "numList1=[1,1,3,3,0,1,1]\n",
    "hate_same_num3(numList1)"
   ]
  },
  {
   "cell_type": "code",
   "execution_count": 103,
   "metadata": {},
   "outputs": [
    {
     "data": {
      "text/plain": [
       "[4, 3]"
      ]
     },
     "execution_count": 103,
     "metadata": {},
     "output_type": "execute_result"
    }
   ],
   "source": [
    "numList2=[4,4,4,3,3]\n",
    "hate_same_num3(numList2)"
   ]
  },
  {
   "cell_type": "code",
   "execution_count": 326,
   "metadata": {},
   "outputs": [],
   "source": [
    "def string_compression(s):\n",
    "    rep_fromF = []\n",
    "#     rep_fromL = []\n",
    "    for rep_len1 in range(len(s)//2,0,-1):\n",
    "        if s[:rep_len1] == s[rep_len1:2*rep_len1]:\n",
    "            rep_fromF = s[:rep_len1]\n",
    "            if len(rep_fromF) != 0:\n",
    "                break\n",
    "    \n",
    "#     for rep_len2 in range(len(s), len(s),-1):\n",
    "#         if s[-rep_len2:] == s[-2*rep_len2:rep_len2]:\n",
    "#             rep_fromL = s[-rep_len2:]\n",
    "#             if len(rep_fromL) != 0:\n",
    "#                 break\n",
    "    rep_len = len(rep_fromF)\n",
    "    \n",
    "    arr = []\n",
    "    str_idx = 1\n",
    "    rep_count = 1\n",
    "    if rep_len != 0:\n",
    "        while str_idx * rep_len < len(s):\n",
    "            if s[(str_idx-1)*rep_len] == s[str_idx*rep_len]:\n",
    "                arr.append(s[(str_idx-1)*rep_len:str_idx*rep_len])\n",
    "                rep_count += 1\n",
    "            else:\n",
    "                arr.append(s[str_idx*rep_len:])\n",
    "                break\n",
    "            str_idx += 1\n",
    "    else:\n",
    "        return len(s)\n",
    "#     try:\n",
    "#         arr = \n",
    "#     except ZeroDivisionError:\n",
    "#         arr = []\n",
    "    \n",
    "    answer = str(rep_count) + \"\".join(arr)\n",
    "#     return len(answer)\n",
    "    return answer"
   ]
  },
  {
   "cell_type": "code",
   "execution_count": null,
   "metadata": {},
   "outputs": [],
   "source": []
  },
  {
   "cell_type": "code",
   "execution_count": 327,
   "metadata": {},
   "outputs": [
    {
     "data": {
      "text/plain": [
       "'2abbaccc'"
      ]
     },
     "execution_count": 327,
     "metadata": {},
     "output_type": "execute_result"
    }
   ],
   "source": [
    "s1 = \"aabbaccc\"\n",
    "string_compression(s1)"
   ]
  },
  {
   "cell_type": "code",
   "execution_count": 328,
   "metadata": {},
   "outputs": [
    {
     "data": {
      "text/plain": [
       "'2ababcdcd'"
      ]
     },
     "execution_count": 328,
     "metadata": {},
     "output_type": "execute_result"
    }
   ],
   "source": [
    "s2 = \"ababcdcdababcdcd\"\n",
    "string_compression(s2)"
   ]
  },
  {
   "cell_type": "code",
   "execution_count": 329,
   "metadata": {},
   "outputs": [
    {
     "data": {
      "text/plain": [
       "'2abcdede'"
      ]
     },
     "execution_count": 329,
     "metadata": {},
     "output_type": "execute_result"
    }
   ],
   "source": [
    "s3 = \"abcabcdede\"\n",
    "string_compression(s3)"
   ]
  },
  {
   "cell_type": "code",
   "execution_count": 330,
   "metadata": {},
   "outputs": [
    {
     "data": {
      "text/plain": [
       "'2abcabcdededededede'"
      ]
     },
     "execution_count": 330,
     "metadata": {},
     "output_type": "execute_result"
    }
   ],
   "source": [
    "s4 = \"abcabcabcabcdededededede\"\n",
    "string_compression(s4)"
   ]
  },
  {
   "cell_type": "code",
   "execution_count": 331,
   "metadata": {},
   "outputs": [
    {
     "data": {
      "text/plain": [
       "17"
      ]
     },
     "execution_count": 331,
     "metadata": {},
     "output_type": "execute_result"
    }
   ],
   "source": [
    "s5 = \"xababcdcdababcdcd\"\n",
    "string_compression(s5)"
   ]
  },
  {
   "cell_type": "code",
   "execution_count": 141,
   "metadata": {},
   "outputs": [
    {
     "name": "stdout",
     "output_type": "stream",
     "text": [
      "5\n",
      "4\n",
      "3\n",
      "2\n"
     ]
    }
   ],
   "source": [
    "for j in range(5,1,-1):\n",
    "    print(j)"
   ]
  },
  {
   "cell_type": "code",
   "execution_count": 178,
   "metadata": {},
   "outputs": [
    {
     "data": {
      "text/plain": [
       "'01'"
      ]
     },
     "execution_count": 178,
     "metadata": {},
     "output_type": "execute_result"
    }
   ],
   "source": [
    "'1301'[-2:]"
   ]
  },
  {
   "cell_type": "code",
   "execution_count": null,
   "metadata": {},
   "outputs": [],
   "source": []
  }
 ],
 "metadata": {
  "kernelspec": {
   "display_name": "Python 3",
   "language": "python",
   "name": "python3"
  },
  "language_info": {
   "codemirror_mode": {
    "name": "ipython",
    "version": 3
   },
   "file_extension": ".py",
   "mimetype": "text/x-python",
   "name": "python",
   "nbconvert_exporter": "python",
   "pygments_lexer": "ipython3",
   "version": "3.7.3"
  }
 },
 "nbformat": 4,
 "nbformat_minor": 2
}
