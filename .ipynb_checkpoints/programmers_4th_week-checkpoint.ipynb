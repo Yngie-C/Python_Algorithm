{
 "cells": [
  {
   "cell_type": "markdown",
   "metadata": {},
   "source": [
    "- [가장 큰 수](https://programmers.co.kr/learn/courses/30/lessons/42746)\n",
    "- [주식가격](https://programmers.co.kr/learn/courses/30/lessons/42584?language=python3)\n",
    "- [후보키](https://programmers.co.kr/learn/courses/30/lessons/42890)"
   ]
  },
  {
   "cell_type": "code",
   "execution_count": 2,
   "metadata": {},
   "outputs": [],
   "source": [
    "def largest_num(numbers):\n",
    "    if any(numbers) == False:\n",
    "        return '0'\n",
    "    else:\n",
    "        numbers = [str(number) for number in numbers]\n",
    "        \n",
    "    sorted_num = sorted(numbers, key=lambda x:x*4, reverse=True)\n",
    "    answer = \"\".join(sorted_num)\n",
    "    return answer"
   ]
  },
  {
   "cell_type": "code",
   "execution_count": 3,
   "metadata": {},
   "outputs": [
    {
     "data": {
      "text/plain": [
       "'6210'"
      ]
     },
     "execution_count": 3,
     "metadata": {},
     "output_type": "execute_result"
    }
   ],
   "source": [
    "num_list1 = [6, 10, 2]\n",
    "largest_num(num_list1)"
   ]
  },
  {
   "cell_type": "code",
   "execution_count": 4,
   "metadata": {},
   "outputs": [
    {
     "data": {
      "text/plain": [
       "'121312'"
      ]
     },
     "execution_count": 4,
     "metadata": {},
     "output_type": "execute_result"
    }
   ],
   "source": [
    "num_list2 = [12, 1213]\n",
    "largest_num(num_list2)"
   ]
  },
  {
   "cell_type": "code",
   "execution_count": 5,
   "metadata": {},
   "outputs": [
    {
     "data": {
      "text/plain": [
       "'40540'"
      ]
     },
     "execution_count": 5,
     "metadata": {},
     "output_type": "execute_result"
    }
   ],
   "source": [
    "num_list3 = [40, 405]\n",
    "largest_num(num_list3)"
   ]
  },
  {
   "cell_type": "code",
   "execution_count": 6,
   "metadata": {},
   "outputs": [
    {
     "data": {
      "text/plain": [
       "'0'"
      ]
     },
     "execution_count": 6,
     "metadata": {},
     "output_type": "execute_result"
    }
   ],
   "source": [
    "num_list4 = [0, 0, 0, 0, 0]\n",
    "largest_num(num_list4)"
   ]
  },
  {
   "cell_type": "code",
   "execution_count": 20,
   "metadata": {},
   "outputs": [],
   "source": [
    "def stock_price(prices):\n",
    "    answer = [0 for i in range(len(prices))]\n",
    "    \n",
    "    for idx1 in range(len(prices)):\n",
    "        for idx2 in range(idx1+1, len(prices)):\n",
    "            if prices[idx1] <= prices[idx2]:\n",
    "                answer[idx1] += 1\n",
    "            else:\n",
    "                answer[idx1] += 1\n",
    "                break\n",
    "                \n",
    "    return answer"
   ]
  },
  {
   "cell_type": "code",
   "execution_count": 21,
   "metadata": {},
   "outputs": [
    {
     "data": {
      "text/plain": [
       "[4, 3, 1, 1, 0]"
      ]
     },
     "execution_count": 21,
     "metadata": {},
     "output_type": "execute_result"
    }
   ],
   "source": [
    "price_list1 = [1, 2, 3, 2, 3]\n",
    "stock_price(price_list1)"
   ]
  },
  {
   "cell_type": "code",
   "execution_count": 22,
   "metadata": {},
   "outputs": [
    {
     "data": {
      "text/plain": [
       "[4, 1, 1, 1, 0]"
      ]
     },
     "execution_count": 22,
     "metadata": {},
     "output_type": "execute_result"
    }
   ],
   "source": [
    "price_list2 = [3, 5, 4, 3, 2]\n",
    "stock_price(price_list2)"
   ]
  },
  {
   "cell_type": "code",
   "execution_count": 49,
   "metadata": {},
   "outputs": [],
   "source": [
    "def candidate_key(relation):\n",
    "    \n",
    "    allKeys = [[relation[i][j] for i in range(len(relation))] for j in range(len(relation[0]))]\n",
    "    counts = [sum([keys.count(idx) for idx in keys]) for keys in allKeys]\n",
    "    if \n",
    "\n",
    "        \n",
    "    return counts"
   ]
  },
  {
   "cell_type": "code",
   "execution_count": 50,
   "metadata": {},
   "outputs": [
    {
     "data": {
      "text/plain": [
       "[6, 8, 14, 14]"
      ]
     },
     "execution_count": 50,
     "metadata": {},
     "output_type": "execute_result"
    }
   ],
   "source": [
    "relation_list = [[\"100\",\"ryan\",\"music\",\"2\"],\n",
    "                 [\"200\",\"apeach\",\"math\",\"2\"],\n",
    "                 [\"300\",\"tube\",\"computer\",\"3\"],\n",
    "                 [\"400\",\"con\",\"computer\",\"4\"],\n",
    "                 [\"500\",\"muzi\",\"music\",\"3\"],\n",
    "                 [\"600\",\"apeach\",\"music\",\"2\"]]\n",
    "candidate_key(relation_list)"
   ]
  },
  {
   "cell_type": "code",
   "execution_count": 45,
   "metadata": {},
   "outputs": [
    {
     "name": "stdout",
     "output_type": "stream",
     "text": [
      "1\n",
      "1\n",
      "2\n",
      "2\n"
     ]
    }
   ],
   "source": [
    "lst1 = [1, 2, 3, 3]\n",
    "for i in lst1:\n",
    "    print(lst1.count(i))"
   ]
  },
  {
   "cell_type": "code",
   "execution_count": null,
   "metadata": {},
   "outputs": [],
   "source": []
  }
 ],
 "metadata": {
  "kernelspec": {
   "display_name": "Python 3",
   "language": "python",
   "name": "python3"
  },
  "language_info": {
   "codemirror_mode": {
    "name": "ipython",
    "version": 3
   },
   "file_extension": ".py",
   "mimetype": "text/x-python",
   "name": "python",
   "nbconvert_exporter": "python",
   "pygments_lexer": "ipython3",
   "version": "3.7.3"
  }
 },
 "nbformat": 4,
 "nbformat_minor": 2
}
