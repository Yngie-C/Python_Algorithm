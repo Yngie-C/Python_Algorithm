{
 "cells": [
  {
   "cell_type": "markdown",
   "metadata": {},
   "source": [
    "### No.1"
   ]
  },
  {
   "cell_type": "code",
   "execution_count": 7,
   "metadata": {},
   "outputs": [
    {
     "name": "stdout",
     "output_type": "stream",
     "text": [
      "[3, 37, 30, 39, 39, 10, 48, 31, 39, 36, 36, 49, 25, 8, 24, 16, 25, 29, 20, 26]\n",
      "[3, 8, 10, 16, 20, 24, 25, 25, 26, 29, 30, 31, 36, 36, 37, 39, 39, 39, 48, 49]\n"
     ]
    }
   ],
   "source": [
    "import random as r\n",
    "\n",
    "list1 = [r.randint(1, 50) for i in range(20)]\n",
    "print(list1)\n",
    "\n",
    "list1_s = sorted(list1)\n",
    "print(list1_s)"
   ]
  },
  {
   "cell_type": "markdown",
   "metadata": {},
   "source": [
    "### No.2"
   ]
  },
  {
   "cell_type": "code",
   "execution_count": 8,
   "metadata": {},
   "outputs": [
    {
     "name": "stdout",
     "output_type": "stream",
     "text": [
      "[[9, 8, 6, 2, 8, 7, 6, 8, 8, 5], [3, 4, 3, 6, 2, 5, 3, 9, 4, 1], [2, 3, 7, 6, 4, 1, 8, 3, 6, 4], [2, 6, 8, 3, 8, 4, 6, 2, 2, 8], [9, 2, 6, 4, 7, 4, 3, 9, 7, 2], [6, 7, 4, 5, 2, 5, 5, 1, 9, 7], [3, 7, 7, 3, 1, 3, 9, 8, 8, 5], [6, 9, 5, 3, 3, 3, 4, 7, 2, 5], [8, 9, 6, 6, 8, 9, 1, 9, 8, 7], [5, 6, 6, 5, 8, 3, 1, 4, 5, 5]]\n",
      "[2, 6, 6, 3, 4, 5, 3, 3, 6, 5]\n"
     ]
    }
   ],
   "source": [
    "# for i in range(10):\n",
    "#     for j in range(10):\n",
    "#         list2[i][j] = r.randint(1,9)\n",
    "list2 = [[r.randint(1,9) for i in range(10)] for j in range(10)]\n",
    "print(list2)\n",
    "\n",
    "list2_4 = []\n",
    "for k in range(10):\n",
    "    list2_4.append(list2[k][3])\n",
    "\n",
    "print(list2_4)"
   ]
  },
  {
   "cell_type": "markdown",
   "metadata": {},
   "source": [
    "### No.3"
   ]
  },
  {
   "cell_type": "code",
   "execution_count": null,
   "metadata": {},
   "outputs": [],
   "source": []
  },
  {
   "cell_type": "markdown",
   "metadata": {},
   "source": [
    "### No.4"
   ]
  },
  {
   "cell_type": "code",
   "execution_count": 9,
   "metadata": {},
   "outputs": [],
   "source": [
    "def air_cleaner(anyList, a, b):\n",
    "    \n",
    "    decrease = []\n",
    "    for i in range(a-2, a+3):\n",
    "        decrease_i = []\n",
    "        for j in range(b-2, b+3):\n",
    "            if (anyList[i][j] > 3):\n",
    "                decrease_i.append(3)\n",
    "            else:\n",
    "                decrease_i.append(anyList[i][j])\n",
    "        decrease.append(decrease_i)\n",
    "    \n",
    "    result = 0\n",
    "    for k in range(len(decrease)):\n",
    "        result += sum(decrease[k])\n",
    "            \n",
    "    return result"
   ]
  },
  {
   "cell_type": "code",
   "execution_count": 17,
   "metadata": {},
   "outputs": [
    {
     "name": "stdout",
     "output_type": "stream",
     "text": [
      "( 3 , 8 )\n"
     ]
    }
   ],
   "source": [
    "list4 = [[r.randint(1,9) for i in range(10)] for j in range(10)]\n",
    "resultList = []\n",
    "\n",
    "for a in range(2, 7):\n",
    "    for b in range(2, 7):\n",
    "        resultList.append(air_cleaner(list4, a, b))\n",
    "        \n",
    "de_max = max(resultList)\n",
    "\n",
    "while 1:\n",
    "    try:\n",
    "        index_max = resultList.index(de_max)\n",
    "        resultList.remove(de_max)\n",
    "        print(\"(\", index_max//6 + 3, \",\", index_max%6 + 3, \")\")\n",
    "    except ValueError:\n",
    "        break"
   ]
  },
  {
   "cell_type": "markdown",
   "metadata": {},
   "source": [
    "### No.5"
   ]
  },
  {
   "cell_type": "code",
   "execution_count": 18,
   "metadata": {},
   "outputs": [
    {
     "name": "stdout",
     "output_type": "stream",
     "text": [
      "[20, 7, 23, 19, 10, 8, 13]\n"
     ]
    }
   ],
   "source": [
    "while 1:\n",
    "    list5 = [20, 7, 23, 19, 10, 15, 25, 8, 13]\n",
    "    for i in range(2):\n",
    "        ran_num = r.randint(0, len(list5)-1)\n",
    "        list5.pop(ran_num)\n",
    "\n",
    "    if (sum(list5) == 100):\n",
    "        print(list5)\n",
    "        break\n"
   ]
  },
  {
   "cell_type": "markdown",
   "metadata": {},
   "source": [
    "### No.6"
   ]
  },
  {
   "cell_type": "code",
   "execution_count": 19,
   "metadata": {},
   "outputs": [
    {
     "name": "stdout",
     "output_type": "stream",
     "text": [
      "57\n"
     ]
    }
   ],
   "source": [
    "def min_sum_time():\n",
    "    people = [r.randint(1,5) for i in range(20)]\n",
    "    people_s = sorted(people)\n",
    "    result = sum(people_s)\n",
    "    return result\n",
    "\n",
    "print(min_sum_time())"
   ]
  },
  {
   "cell_type": "markdown",
   "metadata": {},
   "source": [
    "### No.7"
   ]
  },
  {
   "cell_type": "code",
   "execution_count": 20,
   "metadata": {},
   "outputs": [
    {
     "name": "stdout",
     "output_type": "stream",
     "text": [
      "First Num is 123\n",
      "Second Num is 456\n",
      "Third Num is 789\n",
      "44253432\n",
      "0\n",
      "0\n",
      "2\n",
      "2\n",
      "3\n",
      "1\n",
      "0\n",
      "0\n",
      "0\n",
      "0\n"
     ]
    }
   ],
   "source": [
    "def count_oneToNine(x, y, z):\n",
    "    mul = x * y * z\n",
    "    mul_str = str(mul)\n",
    "    print(mul)\n",
    "\n",
    "    list_num = [\"0\", \"1\", \"2\", \"3\", \"4\", \"5\", \"6\", \"7\", \"8\", \"9\"]\n",
    "    for i in range(10):\n",
    "        print(mul_str.count(list_num[i]))\n",
    "        \n",
    "num1 = int(input(\"First Num is \"))\n",
    "num2 = int(input(\"Second Num is \"))\n",
    "num3 = int(input(\"Third Num is \"))\n",
    "count_oneToNine(num1, num2, num3)"
   ]
  },
  {
   "cell_type": "markdown",
   "metadata": {},
   "source": [
    "### No.8"
   ]
  },
  {
   "cell_type": "code",
   "execution_count": 21,
   "metadata": {},
   "outputs": [],
   "source": [
    "def com_number():\n",
    "    while 1:\n",
    "        com_num = r.randint(100, 999)\n",
    "        com_str = str(com_num)\n",
    "        if (com_str[0] == com_str[1] or com_str[0] == com_str[2] or com_str[1] == com_str[2]):\n",
    "            continue\n",
    "        else:\n",
    "            break\n",
    "            \n",
    "    return com_num"
   ]
  },
  {
   "cell_type": "code",
   "execution_count": 22,
   "metadata": {},
   "outputs": [],
   "source": [
    "def user_number():\n",
    "    while 1:\n",
    "        user_num = int(input(\"Input your number : \"))\n",
    "        user_str = str(user_num)\n",
    "    \n",
    "        if (len(user_str) == 3):\n",
    "            if (user_str[0] == user_str[1] or user_str[0] == user_str[2] or user_str[1] == user_str[2]):\n",
    "                print(\"You should input different 3 digits.\")\n",
    "                continue\n",
    "            else:\n",
    "                break\n",
    "        else:\n",
    "            print(\"You should input 3 digits.\")\n",
    "            continue\n",
    "            \n",
    "    return user_num"
   ]
  },
  {
   "cell_type": "code",
   "execution_count": 23,
   "metadata": {},
   "outputs": [],
   "source": [
    "def baseballGame(com_num, user_num):\n",
    "    \n",
    "    com_str = str(com_num)\n",
    "    user_str = str(user_num)\n",
    "\n",
    "    strikes = 0\n",
    "    balls = 0\n",
    "\n",
    "    for i in range(3):\n",
    "        if (com_str[i] == user_str[i]):\n",
    "            strikes += 1\n",
    "\n",
    "    for j in range(3):\n",
    "        list_j = [0, 1, 2]\n",
    "        list_j.pop(j)\n",
    "        for k in list_j:\n",
    "            if (com_str[j] == user_str[k]):\n",
    "                balls += 1\n",
    "\n",
    "    if (strikes == 3):\n",
    "        print(\"Congraturations! Home Run!!\")\n",
    "        return com_num\n",
    "    elif (strikes == 0 and balls == 0):\n",
    "        return print(\"Out\")\n",
    "    else:\n",
    "        return print(\"Strike : \", strikes, \" / Ball : \", balls)"
   ]
  },
  {
   "cell_type": "code",
   "execution_count": 24,
   "metadata": {},
   "outputs": [
    {
     "name": "stdout",
     "output_type": "stream",
     "text": [
      "Input your number : 123\n",
      "Strike :  1  / Ball :  1\n",
      "Input your number : 456\n",
      "Strike :  0  / Ball :  1\n",
      "Input your number : 132\n",
      "Strike :  0  / Ball :  2\n",
      "Input your number : 125\n",
      "Strike :  2  / Ball :  0\n",
      "Input your number : 135\n",
      "Strike :  1  / Ball :  1\n",
      "Input your number : 325\n",
      "Congraturations! Home Run!!\n",
      "com_num is  325\n",
      "user_num is  325\n"
     ]
    }
   ],
   "source": [
    "com_num = com_number()\n",
    "\n",
    "while 1:\n",
    "    user_num = user_number()\n",
    "    if (baseballGame(com_num, user_num) == com_num):\n",
    "        print(\"com_num is \", com_num)\n",
    "        print(\"user_num is \", user_num)\n",
    "        break"
   ]
  },
  {
   "cell_type": "code",
   "execution_count": null,
   "metadata": {},
   "outputs": [],
   "source": []
  }
 ],
 "metadata": {
  "kernelspec": {
   "display_name": "Python 3",
   "language": "python",
   "name": "python3"
  },
  "language_info": {
   "codemirror_mode": {
    "name": "ipython",
    "version": 3
   },
   "file_extension": ".py",
   "mimetype": "text/x-python",
   "name": "python",
   "nbconvert_exporter": "python",
   "pygments_lexer": "ipython3",
   "version": "3.7.3"
  }
 },
 "nbformat": 4,
 "nbformat_minor": 2
}
