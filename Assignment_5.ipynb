{
 "cells": [
  {
   "cell_type": "markdown",
   "metadata": {},
   "source": [
    "### No.1"
   ]
  },
  {
   "cell_type": "code",
   "execution_count": 1,
   "metadata": {},
   "outputs": [
    {
     "name": "stdout",
     "output_type": "stream",
     "text": [
      "[1, 16, 46, 27, 12, 1, 7, 27, 39, 45, 44, 15, 37, 49, 9, 41, 42, 46, 2, 25]\n",
      "[1, 1, 2, 7, 9, 12, 15, 16, 25, 27, 27, 37, 39, 41, 42, 44, 45, 46, 46, 49]\n"
     ]
    }
   ],
   "source": [
    "import random as r\n",
    "\n",
    "list1 = [r.randint(1, 50) for i in range(20)]\n",
    "print(list1)\n",
    "\n",
    "list1_s = sorted(list1)\n",
    "print(list1_s)"
   ]
  },
  {
   "cell_type": "markdown",
   "metadata": {},
   "source": [
    "### No.2"
   ]
  },
  {
   "cell_type": "code",
   "execution_count": 22,
   "metadata": {},
   "outputs": [
    {
     "name": "stdout",
     "output_type": "stream",
     "text": [
      "[[5, 2, 1, 7, 9, 6, 7, 4, 9, 8], [4, 5, 4, 6, 7, 4, 2, 3, 9, 4], [6, 2, 3, 8, 8, 3, 7, 4, 2, 7], [1, 1, 5, 2, 3, 7, 5, 8, 2, 9], [3, 1, 9, 3, 8, 5, 3, 2, 1, 3], [8, 1, 1, 9, 7, 1, 6, 9, 8, 6], [9, 5, 3, 6, 6, 4, 8, 9, 4, 3], [3, 7, 3, 2, 6, 6, 5, 5, 2, 7], [7, 7, 7, 8, 5, 2, 7, 5, 1, 7], [1, 2, 3, 8, 5, 7, 4, 1, 3, 4]]\n",
      "[7, 6, 8, 2, 3, 9, 6, 2, 8, 8]\n"
     ]
    },
    {
     "ename": "TypeError",
     "evalue": "unsupported operand type(s) for +: 'int' and 'list'",
     "output_type": "error",
     "traceback": [
      "\u001b[1;31m---------------------------------------------------------------------------\u001b[0m",
      "\u001b[1;31mTypeError\u001b[0m                                 Traceback (most recent call last)",
      "\u001b[1;32m<ipython-input-22-3aeba960a6d0>\u001b[0m in \u001b[0;36m<module>\u001b[1;34m\u001b[0m\n\u001b[0;32m     10\u001b[0m \u001b[1;33m\u001b[0m\u001b[0m\n\u001b[0;32m     11\u001b[0m \u001b[0mprint\u001b[0m\u001b[1;33m(\u001b[0m\u001b[0mlist2_4\u001b[0m\u001b[1;33m)\u001b[0m\u001b[1;33m\u001b[0m\u001b[1;33m\u001b[0m\u001b[0m\n\u001b[1;32m---> 12\u001b[1;33m \u001b[0msum\u001b[0m\u001b[1;33m(\u001b[0m\u001b[0mlist2\u001b[0m\u001b[1;33m)\u001b[0m\u001b[1;33m\u001b[0m\u001b[1;33m\u001b[0m\u001b[0m\n\u001b[0m",
      "\u001b[1;31mTypeError\u001b[0m: unsupported operand type(s) for +: 'int' and 'list'"
     ]
    }
   ],
   "source": [
    "# for i in range(10):\n",
    "#     for j in range(10):\n",
    "#         list2[i][j] = r.randint(1,9)\n",
    "list2 = [[r.randint(1,9) for i in range(10)] for j in range(10)]\n",
    "print(list2)\n",
    "\n",
    "list2_4 = []\n",
    "for k in range(10):\n",
    "    list2_4.append(list2[k][3])\n",
    "\n",
    "print(list2_4)"
   ]
  },
  {
   "cell_type": "markdown",
   "metadata": {},
   "source": [
    "### No.3"
   ]
  },
  {
   "cell_type": "code",
   "execution_count": null,
   "metadata": {},
   "outputs": [],
   "source": []
  },
  {
   "cell_type": "markdown",
   "metadata": {},
   "source": [
    "### No.4"
   ]
  },
  {
   "cell_type": "code",
   "execution_count": null,
   "metadata": {},
   "outputs": [],
   "source": [
    "def air_cleaner(list_a, list_b):\n",
    "\n",
    "    ?????\n",
    "    for k,l in list_a, list_b:\n",
    "        sum_k += sum(k)\n",
    "        sum_l += sum(l)\n",
    "        \n",
    "    result = sum_k - sum_l\n",
    "    return result\n",
    "\n",
    "list4 = [[r.randint(1,9) for i in range(10)] for j in range(10)]\n",
    "list4_2 = list4\n",
    "\n",
    "list_result = []\n",
    "f\n",
    "air_clear"
   ]
  },
  {
   "cell_type": "markdown",
   "metadata": {},
   "source": [
    "### No.5"
   ]
  },
  {
   "cell_type": "code",
   "execution_count": 2,
   "metadata": {},
   "outputs": [
    {
     "name": "stdout",
     "output_type": "stream",
     "text": [
      "[20, 7, 23, 19, 10, 8, 13]\n"
     ]
    }
   ],
   "source": [
    "while 1:\n",
    "    list5 = [20, 7, 23, 19, 10, 15, 25, 8, 13]\n",
    "    for i in range(2):\n",
    "        ran_num = r.randint(0, len(list5)-1)\n",
    "        list5.pop(ran_num)\n",
    "\n",
    "    if (sum(list5) == 100):\n",
    "        print(list5)\n",
    "        break\n"
   ]
  },
  {
   "cell_type": "markdown",
   "metadata": {},
   "source": [
    "### No.6"
   ]
  },
  {
   "cell_type": "code",
   "execution_count": 3,
   "metadata": {},
   "outputs": [
    {
     "name": "stdout",
     "output_type": "stream",
     "text": [
      "50\n"
     ]
    }
   ],
   "source": [
    "def min_sum_time():\n",
    "    people = [r.randint(1,5) for i in range(20)]\n",
    "    people_s = sorted(people)\n",
    "    result = sum(people_s)\n",
    "    return result\n",
    "\n",
    "print(min_sum_time())"
   ]
  },
  {
   "cell_type": "markdown",
   "metadata": {},
   "source": [
    "### No.7"
   ]
  },
  {
   "cell_type": "code",
   "execution_count": 4,
   "metadata": {},
   "outputs": [
    {
     "name": "stdout",
     "output_type": "stream",
     "text": [
      "First Num is 842\n",
      "Second Num is 513\n",
      "Third Num is 901\n",
      "389183346\n",
      "0\n",
      "1\n",
      "0\n",
      "3\n",
      "1\n",
      "0\n",
      "1\n",
      "0\n",
      "2\n",
      "1\n"
     ]
    }
   ],
   "source": [
    "def count_oneToNine(x, y, z):\n",
    "    mul = x * y * z\n",
    "    mul_str = str(mul)\n",
    "    print(mul)\n",
    "\n",
    "    list_num = [\"0\", \"1\", \"2\", \"3\", \"4\", \"5\", \"6\", \"7\", \"8\", \"9\"]\n",
    "    for i in range(10):\n",
    "        print(mul_str.count(list_num[i]))\n",
    "        \n",
    "num1 = int(input(\"First Num is \"))\n",
    "num2 = int(input(\"Second Num is \"))\n",
    "num3 = int(input(\"Third Num is \"))\n",
    "count_oneToNine(num1, num2, num3)"
   ]
  },
  {
   "cell_type": "markdown",
   "metadata": {},
   "source": [
    "### No.8"
   ]
  },
  {
   "cell_type": "code",
   "execution_count": 11,
   "metadata": {},
   "outputs": [],
   "source": [
    "def com_number():\n",
    "    while 1:\n",
    "        com_num = r.randint(100, 999)\n",
    "        com_str = str(com_num)\n",
    "        if (com_str[0] == com_str[1] or com_str[0] == com_str[2] or com_str[1] == com_str[2]):\n",
    "            continue\n",
    "        else:\n",
    "            break\n",
    "            \n",
    "    return com_num"
   ]
  },
  {
   "cell_type": "code",
   "execution_count": 12,
   "metadata": {},
   "outputs": [],
   "source": [
    "def user_number():\n",
    "    while 1:\n",
    "        user_num = int(input(\"Input your number : \"))\n",
    "        user_str = str(user_num)\n",
    "    \n",
    "        if (len(user_str) == 3):\n",
    "            if (user_str[0] == user_str[1] or user_str[0] == user_str[2] or user_str[1] == user_str[2]):\n",
    "                print(\"You should input different 3 digits.\")\n",
    "                continue\n",
    "            else:\n",
    "                break\n",
    "        else:\n",
    "            print(\"You should input 3 digits.\")\n",
    "            continue\n",
    "            \n",
    "    return user_num"
   ]
  },
  {
   "cell_type": "code",
   "execution_count": 16,
   "metadata": {},
   "outputs": [],
   "source": [
    "def baseballGame(com_num, user_num):\n",
    "    \n",
    "    com_str = str(com_num)\n",
    "    user_str = str(user_num)\n",
    "\n",
    "    strikes = 0\n",
    "    balls = 0\n",
    "\n",
    "    for i in range(3):\n",
    "        if (com_str[i] == user_str[i]):\n",
    "            strikes += 1\n",
    "\n",
    "    for j in range(3):\n",
    "        list_j = [0, 1, 2]\n",
    "        list_j.pop(j)\n",
    "        for k in list_j:\n",
    "            if (com_str[j] == user_str[k]):\n",
    "                balls += 1\n",
    "\n",
    "    if (strikes == 3):\n",
    "        print(\"Congraturations! Home Run!!\")\n",
    "        return com_num\n",
    "    elif (strikes == 0 and balls == 0):\n",
    "        return print(\"Out\")\n",
    "    else:\n",
    "        return print(\"Strike : \", strikes, \" / Ball : \", balls)"
   ]
  },
  {
   "cell_type": "code",
   "execution_count": 20,
   "metadata": {},
   "outputs": [
    {
     "name": "stdout",
     "output_type": "stream",
     "text": [
      "Input your number : 123\n",
      "Strike :  0  / Ball :  1\n",
      "Input your number : 456\n",
      "Strike :  1  / Ball :  0\n",
      "Input your number : 789\n",
      "Strike :  1  / Ball :  0\n",
      "Input your number : 419\n",
      "Strike :  1  / Ball :  0\n",
      "Input your number : 259\n",
      "Out\n",
      "Input your number : 481\n",
      "Strike :  0  / Ball :  1\n",
      "Input your number : 716\n",
      "Congraturations! Home Run!!\n",
      "com_num is  716\n",
      "user_num is  716\n"
     ]
    }
   ],
   "source": [
    "com_num = com_number()\n",
    "\n",
    "while 1:\n",
    "    user_num = user_number()\n",
    "    if (baseballGame(com_num, user_num) == com_num):\n",
    "        print(\"com_num is \", com_num)\n",
    "        print(\"user_num is \", user_num)\n",
    "        break"
   ]
  },
  {
   "cell_type": "code",
   "execution_count": null,
   "metadata": {},
   "outputs": [],
   "source": []
  }
 ],
 "metadata": {
  "kernelspec": {
   "display_name": "Python 3",
   "language": "python",
   "name": "python3"
  },
  "language_info": {
   "codemirror_mode": {
    "name": "ipython",
    "version": 3
   },
   "file_extension": ".py",
   "mimetype": "text/x-python",
   "name": "python",
   "nbconvert_exporter": "python",
   "pygments_lexer": "ipython3",
   "version": "3.7.3"
  }
 },
 "nbformat": 4,
 "nbformat_minor": 2
}
