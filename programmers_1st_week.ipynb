{
 "cells": [
  {
   "cell_type": "code",
   "execution_count": 1,
   "metadata": {},
   "outputs": [],
   "source": [
    "def Collatz_conjecture(num):\n",
    "    i = 0\n",
    "\n",
    "    while (i < 500):\n",
    "        if (num == 1):\n",
    "            break\n",
    "        elif (num % 2 == 0):\n",
    "            num = num / 2\n",
    "        else:\n",
    "            num = (num * 3) + 1\n",
    "        i += 1\n",
    "\n",
    "    if (i >= 500):\n",
    "        answer = -1\n",
    "    else:\n",
    "        answer = i\n",
    "    \n",
    "    return answer"
   ]
  },
  {
   "cell_type": "code",
   "execution_count": 2,
   "metadata": {},
   "outputs": [],
   "source": [
    "def Harshad_number(num):\n",
    "    str_num = str(num)\n",
    "\n",
    "    sum_num = 0\n",
    "    for i in range(len(str_num)):\n",
    "        sum_num += int(str_num[i])\n",
    "\n",
    "    if num % sum_num == 0:\n",
    "        answer = True\n",
    "    else:\n",
    "        answer = False\n",
    "    return answer"
   ]
  },
  {
   "cell_type": "code",
   "execution_count": 3,
   "metadata": {},
   "outputs": [],
   "source": [
    "def Caesar_cipher(s, n):\n",
    "    answer = ''\n",
    "    for i in range(len(s)):\n",
    "        if s[i] == \" \":\n",
    "            answer += s[i]\n",
    "        elif ord('A') <= ord(s[i]) <= ord('Z'):\n",
    "            answer += chr(((ord(s[i])+n)-ord('A'))%26+ord('A'))\n",
    "        elif ord('a') <= ord(s[i]) <= ord('z'):\n",
    "            answer += chr(((ord(s[i])+n)-ord('a'))%26+ord('a'))\n",
    "\n",
    "    return answer"
   ]
  },
  {
   "cell_type": "code",
   "execution_count": 4,
   "metadata": {},
   "outputs": [],
   "source": [
    "def strange_letters(s):\n",
    "    answer = \"\"\n",
    "    j = 0\n",
    "    for i,s in enumerate(s):\n",
    "        if s == \" \":\n",
    "            answer += s\n",
    "            j = 0\n",
    "            continue\n",
    "        elif (j % 2 == 0):\n",
    "            answer += s.upper()\n",
    "        else:\n",
    "            answer += s.lower()\n",
    "        j +=1\n",
    "    return answer"
   ]
  },
  {
   "cell_type": "code",
   "execution_count": 5,
   "metadata": {},
   "outputs": [],
   "source": [
    "def failure_rate(N, stages):\n",
    "    answer_dict0 = {}\n",
    "    \n",
    "    for i in range(1, N+1):\n",
    "        if stages.count(i) == 0:\n",
    "            values = 0\n",
    "        else:\n",
    "            values = stages.count(i) / len([x for x in stages if x >= i])\n",
    "        answer_dict0.update({i : values})\n",
    "            \n",
    "    answer_dict1 = sorted(answer_dict0.items(), key=lambda x: x[1], reverse = True)\n",
    "    answer = [x[0] for x in answer_dict1]\n",
    "    \n",
    "    return answer"
   ]
  },
  {
   "cell_type": "code",
   "execution_count": null,
   "metadata": {},
   "outputs": [],
   "source": []
  }
 ],
 "metadata": {
  "kernelspec": {
   "display_name": "Python 3",
   "language": "python",
   "name": "python3"
  },
  "language_info": {
   "codemirror_mode": {
    "name": "ipython",
    "version": 3
   },
   "file_extension": ".py",
   "mimetype": "text/x-python",
   "name": "python",
   "nbconvert_exporter": "python",
   "pygments_lexer": "ipython3",
   "version": "3.7.3"
  }
 },
 "nbformat": 4,
 "nbformat_minor": 2
}
