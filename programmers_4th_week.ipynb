{
 "cells": [
  {
   "cell_type": "markdown",
   "metadata": {},
   "source": [
    "- [가장 큰 수](https://programmers.co.kr/learn/courses/30/lessons/42746)\n",
    "- [주식가격](https://programmers.co.kr/learn/courses/30/lessons/42584?language=python3)\n",
    "- [후보키](https://programmers.co.kr/learn/courses/30/lessons/42890)"
   ]
  },
  {
   "cell_type": "code",
   "execution_count": 38,
   "metadata": {},
   "outputs": [],
   "source": [
    "def largest_num(numbers):\n",
    "    numbers = list(map(str, numbers))\n",
    "    \n",
    "    for idx1 in range(1, len(numbers)):\n",
    "        idx2 = 0\n",
    "        while (idx2 < len(numbers[idx1])):\n",
    "            try:\n",
    "                if numbers[idx1][idx2] > numbers[idx1-1][idx2]:\n",
    "                    numbers[idx1-1], numbers[idx1] = numbers[idx1], numbers[idx1-1]\n",
    "                    break\n",
    "                elif numbers[idx1][idx2] < numbers[idx1-1][idx2]:\n",
    "                    break\n",
    "                else:\n",
    "                    idx2 += 1\n",
    "            except IndexError:\n",
    "                if numbers[idx1][idx2-1] > numbers[idx1][idx2]:\n",
    "                    numbers[idx1-1], numbers[idx1] = numbers[idx1], numbers[idx1-1]\n",
    "                    idx2 += 1\n",
    "                else:\n",
    "                    idx2 += 1\n",
    "        \n",
    "    answer = \"\".join(numbers)\n",
    "    return answer"
   ]
  },
  {
   "cell_type": "code",
   "execution_count": 39,
   "metadata": {},
   "outputs": [
    {
     "data": {
      "text/plain": [
       "'6210'"
      ]
     },
     "execution_count": 39,
     "metadata": {},
     "output_type": "execute_result"
    }
   ],
   "source": [
    "num_list1 = [6, 10, 2]\n",
    "largest_num(num_list1)"
   ]
  },
  {
   "cell_type": "code",
   "execution_count": 40,
   "metadata": {},
   "outputs": [
    {
     "data": {
      "text/plain": [
       "'3035934'"
      ]
     },
     "execution_count": 40,
     "metadata": {},
     "output_type": "execute_result"
    }
   ],
   "source": [
    "num_list2 = [3, 30, 34, 5, 9]\n",
    "largest_num(num_list2)"
   ]
  },
  {
   "cell_type": "code",
   "execution_count": 20,
   "metadata": {},
   "outputs": [],
   "source": [
    "def stock_price(prices):\n",
    "    answer = [0 for i in range(len(prices))]\n",
    "    \n",
    "    for idx1 in range(len(prices)):\n",
    "        for idx2 in range(idx1+1, len(prices)):\n",
    "            if prices[idx1] <= prices[idx2]:\n",
    "                answer[idx1] += 1\n",
    "            else:\n",
    "                answer[idx1] += 1\n",
    "                break\n",
    "                \n",
    "    return answer"
   ]
  },
  {
   "cell_type": "code",
   "execution_count": 21,
   "metadata": {},
   "outputs": [
    {
     "data": {
      "text/plain": [
       "[4, 3, 1, 1, 0]"
      ]
     },
     "execution_count": 21,
     "metadata": {},
     "output_type": "execute_result"
    }
   ],
   "source": [
    "price_list1 = [1, 2, 3, 2, 3]\n",
    "stock_price(price_list1)"
   ]
  },
  {
   "cell_type": "code",
   "execution_count": 22,
   "metadata": {},
   "outputs": [
    {
     "data": {
      "text/plain": [
       "[4, 1, 1, 1, 0]"
      ]
     },
     "execution_count": 22,
     "metadata": {},
     "output_type": "execute_result"
    }
   ],
   "source": [
    "price_list2 = [3, 5, 4, 3, 2]\n",
    "stock_price(price_list2)"
   ]
  },
  {
   "cell_type": "code",
   "execution_count": 6,
   "metadata": {},
   "outputs": [],
   "source": [
    "def candidate_key(relation):\n",
    "    answer = 0\n",
    "    return answer"
   ]
  },
  {
   "cell_type": "code",
   "execution_count": 7,
   "metadata": {},
   "outputs": [
    {
     "data": {
      "text/plain": [
       "0"
      ]
     },
     "execution_count": 7,
     "metadata": {},
     "output_type": "execute_result"
    }
   ],
   "source": [
    "relation_list = [[\"100\",\"ryan\",\"music\",\"2\"],\n",
    "                 [\"200\",\"apeach\",\"math\",\"2\"],\n",
    "                 [\"300\",\"tube\",\"computer\",\"3\"],\n",
    "                 [\"400\",\"con\",\"computer\",\"4\"],\n",
    "                 [\"500\",\"muzi\",\"music\",\"3\"],\n",
    "                 [\"600\",\"apeach\",\"music\",\"2\"]]\n",
    "candidate_key(relation_list)"
   ]
  },
  {
   "cell_type": "code",
   "execution_count": 6,
   "metadata": {},
   "outputs": [
    {
     "data": {
      "text/plain": [
       "'[1, 2, 3, 4]'"
      ]
     },
     "execution_count": 6,
     "metadata": {},
     "output_type": "execute_result"
    }
   ],
   "source": []
  },
  {
   "cell_type": "code",
   "execution_count": null,
   "metadata": {},
   "outputs": [],
   "source": []
  }
 ],
 "metadata": {
  "kernelspec": {
   "display_name": "Python 3",
   "language": "python",
   "name": "python3"
  },
  "language_info": {
   "codemirror_mode": {
    "name": "ipython",
    "version": 3
   },
   "file_extension": ".py",
   "mimetype": "text/x-python",
   "name": "python",
   "nbconvert_exporter": "python",
   "pygments_lexer": "ipython3",
   "version": "3.7.4"
  }
 },
 "nbformat": 4,
 "nbformat_minor": 2
}
