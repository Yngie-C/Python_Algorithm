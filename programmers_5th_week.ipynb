{
 "cells": [
  {
   "cell_type": "markdown",
   "metadata": {},
   "source": [
    "매일 프로그래밍\n",
    "1. 가장 큰 연속 원소들의 합\n",
    "2. N보다 작은 피보나치 수의 합\n",
    "\n",
    "프로그래머스\n",
    "\n",
    "- [다음 큰 숫자](https://programmers.co.kr/learn/courses/30/lessons/12911)"
   ]
  },
  {
   "cell_type": "code",
   "execution_count": 89,
   "metadata": {},
   "outputs": [],
   "source": [
    "def sum_connum(num_list):\n",
    "    max_index = num_list.index(max(num_list))\n",
    "    left_sum, right_sum = [], []\n",
    "    left_init, right_init = 0, 0\n",
    "    \n",
    "    for i in range(max_index, -1, -1):\n",
    "        left_init += num_list[i]\n",
    "        left_sum.append(left_init)\n",
    "    \n",
    "    for j in range(max_index, len(num_list)):\n",
    "        right_init += num_list[j]\n",
    "        right_sum.append(right_init)\n",
    "    \n",
    "    sumMax = max(left_sum + right_sum)\n",
    "    \n",
    "    return sumMax"
   ]
  },
  {
   "cell_type": "code",
   "execution_count": 83,
   "metadata": {},
   "outputs": [
    {
     "data": {
      "text/plain": [
       "7"
      ]
     },
     "execution_count": 83,
     "metadata": {},
     "output_type": "execute_result"
    }
   ],
   "source": [
    "input1_q1 = [-1, 3, -1, 5]\n",
    "sum_connum(input1_q1)"
   ]
  },
  {
   "cell_type": "code",
   "execution_count": 87,
   "metadata": {},
   "outputs": [
    {
     "data": {
      "text/plain": [
       "5"
      ]
     },
     "execution_count": 87,
     "metadata": {},
     "output_type": "execute_result"
    }
   ],
   "source": [
    "input2_q1 = [-5, 3, -1, -4, 5]\n",
    "sum_connum(input2_q1)"
   ]
  },
  {
   "cell_type": "code",
   "execution_count": 88,
   "metadata": {},
   "outputs": [
    {
     "data": {
      "text/plain": [
       "11"
      ]
     },
     "execution_count": 88,
     "metadata": {},
     "output_type": "execute_result"
    }
   ],
   "source": [
    "input3_q1 = [2, 4, -2, -3, 8, -2, 5]\n",
    "sum_connum(input3_q1)"
   ]
  },
  {
   "cell_type": "code",
   "execution_count": 46,
   "metadata": {},
   "outputs": [],
   "source": [
    "def sum_Fibo(N):\n",
    "    FiboList = [0,1]\n",
    "    sumEven = 0\n",
    "    \n",
    "    while FiboList[-1] < N:\n",
    "        FiboNum = FiboList[-2] + FiboList[-1]\n",
    "        FiboList.append(FiboNum)\n",
    "    \n",
    "    FiboList.pop()\n",
    "    \n",
    "    for FiboNum in FiboList:\n",
    "        if FiboNum % 2 == 0:\n",
    "            sumEven += FiboNum\n",
    "    \n",
    "    return sumEven"
   ]
  },
  {
   "cell_type": "code",
   "execution_count": 47,
   "metadata": {},
   "outputs": [
    {
     "data": {
      "text/plain": [
       "10"
      ]
     },
     "execution_count": 47,
     "metadata": {},
     "output_type": "execute_result"
    }
   ],
   "source": [
    "input1_q2 = 12\n",
    "sum_Fibo(input1_q2)"
   ]
  },
  {
   "cell_type": "code",
   "execution_count": 48,
   "metadata": {},
   "outputs": [
    {
     "data": {
      "text/plain": [
       "2"
      ]
     },
     "execution_count": 48,
     "metadata": {},
     "output_type": "execute_result"
    }
   ],
   "source": [
    "input2_q2 = 7\n",
    "sum_Fibo(input2_q2)"
   ]
  },
  {
   "cell_type": "code",
   "execution_count": 41,
   "metadata": {},
   "outputs": [],
   "source": [
    "def bigger_bin(n):\n",
    "    def count_one(number):\n",
    "        return str(bin(number)).count('1')\n",
    "    \n",
    "    bigger_n = n + 1\n",
    "    while 1:\n",
    "        if count_one(bigger_n) == count_one(n):\n",
    "            break\n",
    "        bigger_n += 1\n",
    "    \n",
    "    answer = bigger_n\n",
    "    return answer"
   ]
  },
  {
   "cell_type": "code",
   "execution_count": 42,
   "metadata": {},
   "outputs": [
    {
     "data": {
      "text/plain": [
       "83"
      ]
     },
     "execution_count": 42,
     "metadata": {},
     "output_type": "execute_result"
    }
   ],
   "source": [
    "input1_q3 = 78\n",
    "bigger_bin(input1_q3)"
   ]
  },
  {
   "cell_type": "code",
   "execution_count": 43,
   "metadata": {},
   "outputs": [
    {
     "data": {
      "text/plain": [
       "23"
      ]
     },
     "execution_count": 43,
     "metadata": {},
     "output_type": "execute_result"
    }
   ],
   "source": [
    "input2_q3 = 15\n",
    "bigger_bin(input2_q3)"
   ]
  },
  {
   "cell_type": "code",
   "execution_count": 67,
   "metadata": {},
   "outputs": [
    {
     "data": {
      "text/plain": [
       "[1, 1, 1, 2, 2]"
      ]
     },
     "execution_count": 67,
     "metadata": {},
     "output_type": "execute_result"
    }
   ],
   "source": [
    "[1, 1, 1] + [2, 2]"
   ]
  },
  {
   "cell_type": "code",
   "execution_count": null,
   "metadata": {},
   "outputs": [],
   "source": []
  }
 ],
 "metadata": {
  "kernelspec": {
   "display_name": "Python 3",
   "language": "python",
   "name": "python3"
  },
  "language_info": {
   "codemirror_mode": {
    "name": "ipython",
    "version": 3
   },
   "file_extension": ".py",
   "mimetype": "text/x-python",
   "name": "python",
   "nbconvert_exporter": "python",
   "pygments_lexer": "ipython3",
   "version": "3.7.3"
  }
 },
 "nbformat": 4,
 "nbformat_minor": 2
}
