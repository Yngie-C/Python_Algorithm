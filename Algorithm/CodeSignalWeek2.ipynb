{
 "cells": [
  {
   "cell_type": "markdown",
   "metadata": {},
   "source": [
    "# 2주차"
   ]
  },
  {
   "cell_type": "markdown",
   "metadata": {},
   "source": [
    "- [allLongestStrings](https://app.codesignal.com/arcade/intro/level-3/fzsCQGYbxaEcTr2bL)"
   ]
  },
  {
   "cell_type": "code",
   "execution_count": 1,
   "metadata": {},
   "outputs": [],
   "source": [
    "def allLongestStrings(inputArray):\n",
    "\n",
    "    answerArray = []\n",
    "    \n",
    "    def maxLength(inputList):\n",
    "        maxLen = 0\n",
    "        for string in inputList:\n",
    "            if len(string) > maxLen:\n",
    "                maxLen = len(string)\n",
    "        return maxLen\n",
    "    \n",
    "    for string in inputArray:\n",
    "        if len(string) == maxLength(inputArray):\n",
    "            answerArray.append(string)\n",
    "            \n",
    "    return answerArray"
   ]
  },
  {
   "cell_type": "markdown",
   "metadata": {},
   "source": [
    "- [commonCharacterCount](https://app.codesignal.com/arcade/intro/level-3/JKKuHJknZNj4YGL32)"
   ]
  },
  {
   "cell_type": "code",
   "execution_count": 2,
   "metadata": {},
   "outputs": [],
   "source": [
    "def commonCharacterCount(s1, s2):\n",
    "    count = 0\n",
    "    alphaList = [chr(c) for c in range(ord('a'), ord('z')+1)]\n",
    "    \n",
    "    for alpha in alphaList:\n",
    "        countSum = min(s1.count(alpha),s2.count(alpha))\n",
    "        count += countSum\n",
    "        \n",
    "    return count"
   ]
  },
  {
   "cell_type": "markdown",
   "metadata": {},
   "source": [
    "- [isLucky](https://app.codesignal.com/arcade/intro/level-3/3AdBC97QNuhF6RwsQ)"
   ]
  },
  {
   "cell_type": "code",
   "execution_count": 3,
   "metadata": {},
   "outputs": [],
   "source": [
    "def isLucky(n):\n",
    "    str_n = str(n)\n",
    "    halfIndex = int(len(str_n)/2)\n",
    "    firstHalfSum = 0\n",
    "    lastHalfSum = 0\n",
    "    \n",
    "    for i in str_n[:halfIndex]:\n",
    "        firstHalfSum += int(i)\n",
    "        \n",
    "    for j in str_n[halfIndex:]:\n",
    "        lastHalfSum += int(j)\n",
    "        \n",
    "    if firstHalfSum == lastHalfSum:\n",
    "        return True\n",
    "    else:\n",
    "        return False"
   ]
  },
  {
   "cell_type": "markdown",
   "metadata": {},
   "source": [
    "- [sortByHeight](https://app.codesignal.com/arcade/intro/level-3/D6qmdBL2NYz49XHwM)"
   ]
  },
  {
   "cell_type": "code",
   "execution_count": 4,
   "metadata": {},
   "outputs": [],
   "source": [
    "def sortByHeight(a):\n",
    "    heightDict = {}\n",
    "    \n",
    "    for idx, height in enumerate(a):\n",
    "        heightDict[idx] = height\n",
    "    \n",
    "    heightListExceptMinus = [height for height in heightDict.values() if height != -1]\n",
    "    heightListExceptMinusSorted = sorted(heightListExceptMinus)\n",
    "    heightListExceptMinusRevSorted = list(reversed(heightListExceptMinusSorted))\n",
    "\n",
    "    for i in range(len(heightDict)):\n",
    "        if heightDict[i] != -1:\n",
    "            heightDict[i] = heightListExceptMinusRevSorted.pop()\n",
    "\n",
    "    return list(heightDict.values())"
   ]
  },
  {
   "cell_type": "markdown",
   "metadata": {},
   "source": [
    "- [reverseInParentheses](https://app.codesignal.com/arcade/intro/level-3/9DgaPsE2a7M6M2Hu6)"
   ]
  },
  {
   "cell_type": "code",
   "execution_count": 5,
   "metadata": {},
   "outputs": [],
   "source": [
    "def reverseInParentheses(inputString):\n",
    "    \n",
    "    def replaceBracketedString(String):\n",
    "        \n",
    "        openIdxList = []\n",
    "        closeIdxList = []\n",
    "\n",
    "        for idx, character in enumerate(String):\n",
    "            if character == \"(\":\n",
    "                openIdxList.append(idx)\n",
    "            elif character == \")\":\n",
    "                closeIdxList.append(idx)\n",
    "                        \n",
    "        for i in range(len(openIdxList)):\n",
    "            for j in range(len(closeIdxList)):\n",
    "                if i==len(openIdxList)-1:\n",
    "                    openIdx = openIdxList[i]\n",
    "                    closeIdx = closeIdxList[j]\n",
    "                    bracketedString = String[openIdx:closeIdx+1]\n",
    "                    revString_ = String[openIdx+1:closeIdx]\n",
    "                    revString = revString_[::-1]\n",
    "                    String = String.replace(bracketedString, revString)\n",
    "                    return String\n",
    "                \n",
    "                elif openIdxList[i] < closeIdxList[j] < openIdxList[i+1]:\n",
    "                    openIdx = openIdxList[i]\n",
    "                    closeIdx = closeIdxList[j]\n",
    "                    bracketedString = String[openIdx:closeIdx+1]\n",
    "                    revString_ = String[openIdx+1:closeIdx]\n",
    "                    revString = revString_[::-1]\n",
    "                    String = String.replace(bracketedString, revString)\n",
    "                    return String\n",
    "                \n",
    "    while \"(\" in inputString:\n",
    "        inputString = replaceBracketedString(inputString)\n",
    "        \n",
    "    return inputString"
   ]
  }
 ],
 "metadata": {
  "kernelspec": {
   "display_name": "Python 3.7.6 64-bit ('Basicenv': conda)",
   "language": "python",
   "name": "python37664bitbasicenvconda67009c115e7d469fb52b40873612ad24"
  },
  "language_info": {
   "codemirror_mode": {
    "name": "ipython",
    "version": 3
   },
   "file_extension": ".py",
   "mimetype": "text/x-python",
   "name": "python",
   "nbconvert_exporter": "python",
   "pygments_lexer": "ipython3",
   "version": "3.7.6"
  }
 },
 "nbformat": 4,
 "nbformat_minor": 4
}
