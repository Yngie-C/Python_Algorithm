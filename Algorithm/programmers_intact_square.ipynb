{
 "cells": [
  {
   "cell_type": "markdown",
   "metadata": {},
   "source": [
    "# 멀쩡한 사각형"
   ]
  },
  {
   "cell_type": "markdown",
   "metadata": {},
   "source": [
    "- [문제 링크](https://programmers.co.kr/learn/courses/30/lessons/62048)"
   ]
  },
  {
   "cell_type": "code",
   "execution_count": null,
   "metadata": {},
   "outputs": [],
   "source": [
    "from math import gcd\n",
    "\n",
    "def intact_square(w,h):\n",
    "    \n",
    "    if w == h:\n",
    "        damaged = w\n",
    "    else:\n",
    "        wh_gcd = gcd(w,h)\n",
    "        unit_w = w // wh_gcd\n",
    "        unit_h = h // wh_gcd\n",
    "\n",
    "        damaged = (unit_w + unit_h - 1) * wh_gcd\n",
    "    \n",
    "    answer = w * h - damaged\n",
    "    return answer"
   ]
  }
 ],
 "metadata": {
  "kernelspec": {
   "display_name": "Python 3",
   "language": "python",
   "name": "python3"
  },
  "language_info": {
   "codemirror_mode": {
    "name": "ipython",
    "version": 3
   },
   "file_extension": ".py",
   "mimetype": "text/x-python",
   "name": "python",
   "nbconvert_exporter": "python",
   "pygments_lexer": "ipython3",
   "version": "3.7.6"
  }
 },
 "nbformat": 4,
 "nbformat_minor": 4
}
