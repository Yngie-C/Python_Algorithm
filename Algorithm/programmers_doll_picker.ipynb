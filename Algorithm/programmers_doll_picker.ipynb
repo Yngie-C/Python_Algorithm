{
 "cells": [
  {
   "cell_type": "markdown",
   "metadata": {},
   "source": [
    "# 인형뽑기"
   ]
  },
  {
   "cell_type": "markdown",
   "metadata": {},
   "source": [
    "- [문제 링크](https://programmers.co.kr/learn/courses/30/lessons/64061)"
   ]
  },
  {
   "cell_type": "code",
   "execution_count": null,
   "metadata": {},
   "outputs": [],
   "source": [
    "import numpy as np\n",
    "\n",
    "def doll_picker(board, moves):\n",
    "    \n",
    "    def picking(dollList, stackList):\n",
    "        for idx in range(len(dollList)):\n",
    "            if dollList[idx] != 0:\n",
    "                stackList.append(dollList[idx])\n",
    "                dollList[idx] = 0\n",
    "                break\n",
    "        return dollList, stackList\n",
    "    \n",
    "    pickedDolls = []\n",
    "    answer = 0\n",
    "    \n",
    "    boardArr = np.array(board)\n",
    "    boardArr = np.transpose(boardArr)\n",
    "    boardTrans = boardArr.tolist()\n",
    "\n",
    "    for i in moves:\n",
    "        picking(boardTrans[i-1], pickedDolls)\n",
    "        try:\n",
    "            if pickedDolls[-1] == pickedDolls[-2]:\n",
    "                pickedDolls = pickedDolls[:-2]\n",
    "                answer += 2\n",
    "        except:\n",
    "            continue\n",
    "        \n",
    "    return answer"
   ]
  }
 ],
 "metadata": {
  "kernelspec": {
   "display_name": "Python 3",
   "language": "python",
   "name": "python3"
  },
  "language_info": {
   "codemirror_mode": {
    "name": "ipython",
    "version": 3
   },
   "file_extension": ".py",
   "mimetype": "text/x-python",
   "name": "python",
   "nbconvert_exporter": "python",
   "pygments_lexer": "ipython3",
   "version": "3.7.6"
  }
 },
 "nbformat": 4,
 "nbformat_minor": 4
}
