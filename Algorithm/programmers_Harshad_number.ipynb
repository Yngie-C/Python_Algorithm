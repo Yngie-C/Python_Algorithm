{
 "cells": [
  {
   "cell_type": "markdown",
   "metadata": {},
   "source": [
    "# 하샤드 수"
   ]
  },
  {
   "cell_type": "markdown",
   "metadata": {},
   "source": [
    "- [문제 링크](https://programmers.co.kr/learn/courses/30/lessons/12947)"
   ]
  },
  {
   "cell_type": "code",
   "execution_count": null,
   "metadata": {},
   "outputs": [],
   "source": [
    "def Harshad_number(num):\n",
    "    str_num = str(num)\n",
    "\n",
    "    sum_num = 0\n",
    "    for i in range(len(str_num)):\n",
    "        sum_num += int(str_num[i])\n",
    "\n",
    "    if num % sum_num == 0:\n",
    "        answer = True\n",
    "    else:\n",
    "        answer = False\n",
    "    return answer"
   ]
  }
 ],
 "metadata": {
  "kernelspec": {
   "display_name": "Python 3",
   "language": "python",
   "name": "python3"
  },
  "language_info": {
   "codemirror_mode": {
    "name": "ipython",
    "version": 3
   },
   "file_extension": ".py",
   "mimetype": "text/x-python",
   "name": "python",
   "nbconvert_exporter": "python",
   "pygments_lexer": "ipython3",
   "version": "3.7.6"
  }
 },
 "nbformat": 4,
 "nbformat_minor": 4
}
