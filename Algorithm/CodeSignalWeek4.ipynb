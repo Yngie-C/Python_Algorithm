{
 "cells": [
  {
   "cell_type": "markdown",
   "metadata": {},
   "source": [
    "# 4주차"
   ]
  },
  {
   "cell_type": "markdown",
   "metadata": {},
   "source": [
    "- [areEquallyStrong](https://app.codesignal.com/arcade/intro/level-5/g6dc9KJyxmFjB98dL)"
   ]
  },
  {
   "cell_type": "code",
   "execution_count": 1,
   "metadata": {},
   "outputs": [],
   "source": [
    "def areEquallyStrong(yourLeft, yourRight, friendsLeft, friendsRight):\n",
    "    yourList = [yourLeft, yourRight]\n",
    "    friendsList = [friendsLeft, friendsRight]\n",
    "    \n",
    "    if set(yourList) == set(friendsList):\n",
    "        return True\n",
    "    else:\n",
    "        return False"
   ]
  },
  {
   "cell_type": "markdown",
   "metadata": {},
   "source": [
    "- [arrayMaximalAdjacentDifference](https://app.codesignal.com/arcade/intro/level-5/EEJxjQ7oo7C5wAGjE)"
   ]
  },
  {
   "cell_type": "code",
   "execution_count": 2,
   "metadata": {},
   "outputs": [],
   "source": [
    "def arrayMaximalAdjacentDifference(inputArray):\n",
    "\n",
    "    maximalDiff = 0\n",
    "    \n",
    "    for i in range(1, len(inputArray)):\n",
    "        diff = abs(inputArray[i] - inputArray[i-1])\n",
    "        \n",
    "        if diff > maximalDiff:\n",
    "            maximalDiff = diff\n",
    "            \n",
    "    return maximalDiff"
   ]
  },
  {
   "cell_type": "markdown",
   "metadata": {},
   "source": [
    "- [isIPv4Address](https://app.codesignal.com/arcade/intro/level-5/veW5xJednTy4qcjso)"
   ]
  },
  {
   "cell_type": "code",
   "execution_count": 3,
   "metadata": {},
   "outputs": [],
   "source": [
    "def isIPv4Address(inputString):\n",
    "\n",
    "    def ipNumCondition(stringNum):\n",
    "        if stringNum[0] != \"0\":\n",
    "            return True\n",
    "        elif len(stringNum) == 1:\n",
    "            return True\n",
    "        else:\n",
    "            return False\n",
    "    \n",
    "    try:\n",
    "        ipNumList = [int(num) for num in inputString.split(\".\") if ipNumCondition(num)]\n",
    "        print(ipNumList)\n",
    "        if max(ipNumList) > 255 or min(ipNumList) < 0 or len(ipNumList) != 4:\n",
    "            return False\n",
    "        else:\n",
    "            return True\n",
    "    except:\n",
    "        return False"
   ]
  },
  {
   "cell_type": "markdown",
   "metadata": {},
   "source": [
    "- [avoidObstacles](https://app.codesignal.com/arcade/intro/level-5/XC9Q2DhRRKQrfLhb5)"
   ]
  },
  {
   "cell_type": "code",
   "execution_count": 5,
   "metadata": {},
   "outputs": [],
   "source": [
    "def avoidObstacles(inputArray):\n",
    "\n",
    "    def stepping(inputArray, num):\n",
    "        maxN = max(inputArray)//num + 1\n",
    "        \n",
    "        for n in range(1, maxN+1):\n",
    "            if i*n in inputArray:\n",
    "                return True\n",
    "\n",
    "    for i in range(2,max(inputArray)+2):\n",
    "        if stepping(inputArray, i):\n",
    "            continue\n",
    "        else:\n",
    "            return i"
   ]
  },
  {
   "cell_type": "markdown",
   "metadata": {},
   "source": [
    "- [boxBlur](https://app.codesignal.com/arcade/intro/level-5/5xPitc3yT3dqS7XkP)"
   ]
  },
  {
   "cell_type": "code",
   "execution_count": 6,
   "metadata": {},
   "outputs": [],
   "source": [
    "def boxBlur(image):\n",
    "\n",
    "    def sumOfMatrix33(matrix, leftEndIdx, topEndIdx):\n",
    "        summation = 0\n",
    "        for i in range(leftEndIdx, leftEndIdx+3):\n",
    "            for j in range(topEndIdx, topEndIdx+3):\n",
    "                summation += matrix[i][j]\n",
    "        return summation\n",
    "    \n",
    "    blurredImage = []\n",
    "    \n",
    "    for i in range(len(image)-2):\n",
    "        blurredImageRow = []\n",
    "        for j in range(len(image[0])-2):\n",
    "            blurredImageElement = sumOfMatrix33(image, i, j)//9\n",
    "            blurredImageRow.append(blurredImageElement)\n",
    "        blurredImage.append(blurredImageRow)\n",
    "        \n",
    "    return blurredImage"
   ]
  },
  {
   "cell_type": "markdown",
   "metadata": {},
   "source": [
    "- [minesweeper](https://app.codesignal.com/arcade/intro/level-5/ZMR5n7vJbexnLrgaM)"
   ]
  },
  {
   "cell_type": "code",
   "execution_count": 8,
   "metadata": {},
   "outputs": [],
   "source": [
    "import numpy as np\n",
    "\n",
    "def minesweeper(matrix):\n",
    "    \n",
    "    def checkAdjacentMines(matrix, horizontalIdx, verticalIdx):\n",
    "        numOfMines = 0\n",
    "        max_row = len(matrix)\n",
    "        max_col = len(matrix[0])\n",
    "\n",
    "        for i in range(horizontalIdx-1, horizontalIdx+2):\n",
    "            if i < 0:\n",
    "                continue\n",
    "            elif i >= max_row:\n",
    "                break\n",
    "\n",
    "            for j in range(verticalIdx-1, verticalIdx+2):\n",
    "                if j < 0:\n",
    "                    continue\n",
    "                elif i == horizontalIdx and j == verticalIdx:\n",
    "                    continue\n",
    "                elif j >= max_col:\n",
    "                    break\n",
    "\n",
    "                if matrix[i][j]:\n",
    "                    numOfMines += 1\n",
    "\n",
    "        return numOfMines\n",
    "    \n",
    "    sizeOfMatrix = np.array(matrix).shape\n",
    "    mineMatrix = np.zeros((sizeOfMatrix), dtype=int)\n",
    "    \n",
    "    for i in range(len(matrix)):\n",
    "        for j in range(len(matrix[0])):\n",
    "            mineMatrix[i][j] = checkAdjacentMines(matrix, i, j)\n",
    "            \n",
    "    return mineMatrix.tolist()"
   ]
  }
 ],
 "metadata": {
  "kernelspec": {
   "display_name": "Python 3.7.6 64-bit ('Basicenv': conda)",
   "language": "python",
   "name": "python37664bitbasicenvconda67009c115e7d469fb52b40873612ad24"
  },
  "language_info": {
   "codemirror_mode": {
    "name": "ipython",
    "version": 3
   },
   "file_extension": ".py",
   "mimetype": "text/x-python",
   "name": "python",
   "nbconvert_exporter": "python",
   "pygments_lexer": "ipython3",
   "version": "3.7.6"
  }
 },
 "nbformat": 4,
 "nbformat_minor": 4
}
