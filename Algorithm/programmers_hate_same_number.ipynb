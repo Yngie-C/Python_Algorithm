{
 "cells": [
  {
   "cell_type": "markdown",
   "metadata": {},
   "source": [
    "# 같은 숫자는 싫어"
   ]
  },
  {
   "cell_type": "markdown",
   "metadata": {},
   "source": [
    "- [문제 링크](https://programmers.co.kr/learn/courses/30/lessons/12906)"
   ]
  },
  {
   "cell_type": "code",
   "execution_count": null,
   "metadata": {},
   "outputs": [],
   "source": [
    "def hate_same_number(arr):\n",
    "    arr2 = [arr[0]]\n",
    "    for idx in range(len(arr)-1):\n",
    "        if arr[idx] != arr[idx+1]:\n",
    "            arr2.append(arr[idx+1])\n",
    "    answer = arr2\n",
    "    return answer"
   ]
  }
 ],
 "metadata": {
  "kernelspec": {
   "display_name": "Python 3",
   "language": "python",
   "name": "python3"
  },
  "language_info": {
   "codemirror_mode": {
    "name": "ipython",
    "version": 3
   },
   "file_extension": ".py",
   "mimetype": "text/x-python",
   "name": "python",
   "nbconvert_exporter": "python",
   "pygments_lexer": "ipython3",
   "version": "3.7.6"
  }
 },
 "nbformat": 4,
 "nbformat_minor": 4
}
