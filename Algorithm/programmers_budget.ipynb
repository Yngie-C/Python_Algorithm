{
 "cells": [
  {
   "cell_type": "markdown",
   "metadata": {},
   "source": [
    "# 예산"
   ]
  },
  {
   "cell_type": "markdown",
   "metadata": {},
   "source": [
    "- [문제 링크](https://programmers.co.kr/learn/courses/30/lessons/12982)"
   ]
  },
  {
   "cell_type": "code",
   "execution_count": null,
   "metadata": {},
   "outputs": [],
   "source": [
    "def budget_num(d, budget):\n",
    "    sort_d = sorted(d)\n",
    "    sort_d.reverse()\n",
    "    init_b = 10000001\n",
    "    \n",
    "    while init_b > budget:\n",
    "        init_b = sum(sort_d)\n",
    "        if len(sort_d) != 0:\n",
    "            sort_d.remove(max(sort_d))\n",
    "            answer = len(sort_d)+1\n",
    "        else:\n",
    "            answer = len(sort_d)\n",
    "    return answer"
   ]
  }
 ],
 "metadata": {
  "kernelspec": {
   "display_name": "Python 3",
   "language": "python",
   "name": "python3"
  },
  "language_info": {
   "codemirror_mode": {
    "name": "ipython",
    "version": 3
   },
   "file_extension": ".py",
   "mimetype": "text/x-python",
   "name": "python",
   "nbconvert_exporter": "python",
   "pygments_lexer": "ipython3",
   "version": "3.7.6"
  }
 },
 "nbformat": 4,
 "nbformat_minor": 4
}
