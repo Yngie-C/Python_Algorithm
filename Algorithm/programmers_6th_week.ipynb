{
 "cells": [
  {
   "cell_type": "markdown",
   "metadata": {},
   "source": [
    "- [프린터](https://programmers.co.kr/learn/courses/30/lessons/42587)\n",
    "- [위장](https://programmers.co.kr/learn/courses/30/lessons/42578)\n",
    "- [숫자의 표현](https://programmers.co.kr/learn/courses/30/lessons/12924)"
   ]
  },
  {
   "cell_type": "code",
   "execution_count": 99,
   "metadata": {},
   "outputs": [],
   "source": [
    "def printer(priorities, location):\n",
    "    docPriorTuple = [(priorities[i], i) for i in range(len(priorities))]\n",
    "    docPriorTupleCopy = [(priorities[i], i) for i in range(len(priorities))]\n",
    "    n = 0\n",
    "    \n",
    "    while docPriorTupleCopy[location] in docPriorTuple:\n",
    "        if docPriorTuple[0][0] == max(priorities):\n",
    "            docPriorTuple.pop(0)\n",
    "            priorities.pop(0)\n",
    "            n+=1\n",
    "        else:\n",
    "            docPriorTuple.append(docPriorTuple.pop(0))            \n",
    "            priorities.append(priorities.pop(0))\n",
    "        \n",
    "    answer = n\n",
    "    return answer"
   ]
  },
  {
   "cell_type": "code",
   "execution_count": 101,
   "metadata": {},
   "outputs": [
    {
     "data": {
      "text/plain": [
       "1"
      ]
     },
     "execution_count": 101,
     "metadata": {},
     "output_type": "execute_result"
    }
   ],
   "source": [
    "inputQ1_1_1 = [2, 1, 3, 2]\n",
    "inputQ1_1_2 = 2\n",
    "printer(inputQ1_1_1, inputQ1_1_2)"
   ]
  },
  {
   "cell_type": "code",
   "execution_count": 102,
   "metadata": {},
   "outputs": [
    {
     "data": {
      "text/plain": [
       "5"
      ]
     },
     "execution_count": 102,
     "metadata": {},
     "output_type": "execute_result"
    }
   ],
   "source": [
    "inputQ1_2_1 = [1, 1, 9, 1, 1, 1]\n",
    "inputQ1_2_2 = 0\n",
    "printer(inputQ1_2_1, inputQ1_2_2)"
   ]
  },
  {
   "cell_type": "code",
   "execution_count": 5,
   "metadata": {},
   "outputs": [],
   "source": [
    "def camouflage(clothes):\n",
    "    answer = 0\n",
    "    return answer"
   ]
  },
  {
   "cell_type": "code",
   "execution_count": 7,
   "metadata": {},
   "outputs": [
    {
     "data": {
      "text/plain": [
       "0"
      ]
     },
     "execution_count": 7,
     "metadata": {},
     "output_type": "execute_result"
    }
   ],
   "source": [
    "inputQ2_1 = [[\"yellow_hat\", \"headgear\"], [\"blue_sunglasses\", \"eyewear\"], [\"green_turban\", \"headgear\"]]\n",
    "camouflage(inputQ2_1)"
   ]
  },
  {
   "cell_type": "code",
   "execution_count": 8,
   "metadata": {},
   "outputs": [
    {
     "data": {
      "text/plain": [
       "0"
      ]
     },
     "execution_count": 8,
     "metadata": {},
     "output_type": "execute_result"
    }
   ],
   "source": [
    "inputQ2_2 = [[\"crow_mask\", \"face\"], [\"blue_sunglasses\", \"face\"], [\"smoky_makeup\", \"face\"]]\n",
    "camouflage(inputQ2_2)"
   ]
  },
  {
   "cell_type": "code",
   "execution_count": 2,
   "metadata": {},
   "outputs": [],
   "source": [
    "import math as m\n",
    "\n",
    "def change_to_consum(n):\n",
    "    fin = int(m.sqrt(2*n))\n",
    "    s = 0\n",
    "    \n",
    "    for i in range(1, fin+1):\n",
    "        if i % 2 == 1:\n",
    "            if n % i == 0:\n",
    "                s += 1\n",
    "        else:\n",
    "            if str(n / i)[-2:] == '.5':\n",
    "                s += 1\n",
    "            \n",
    "    answer = s\n",
    "    return answer"
   ]
  },
  {
   "cell_type": "code",
   "execution_count": 3,
   "metadata": {},
   "outputs": [
    {
     "data": {
      "text/plain": [
       "4"
      ]
     },
     "execution_count": 3,
     "metadata": {},
     "output_type": "execute_result"
    }
   ],
   "source": [
    "inputQ3_1 = 15\n",
    "change_to_consum(inputQ3_1)"
   ]
  },
  {
   "cell_type": "code",
   "execution_count": 4,
   "metadata": {},
   "outputs": [
    {
     "data": {
      "text/plain": [
       "3"
      ]
     },
     "execution_count": 4,
     "metadata": {},
     "output_type": "execute_result"
    }
   ],
   "source": [
    "inputQ3_2 = 18\n",
    "change_to_consum(inputQ3_2)"
   ]
  },
  {
   "cell_type": "code",
   "execution_count": 5,
   "metadata": {},
   "outputs": [
    {
     "name": "stdout",
     "output_type": "stream",
     "text": [
      "0 1 123\n",
      "1 2 234\n",
      "2 3 345\n"
     ]
    }
   ],
   "source": [
    "a = {1:'123', 2:'234', 3:'345'}\n",
    "for i, (key, value) in enumerate (a.items()):\n",
    "    print(i, key, value)"
   ]
  },
  {
   "cell_type": "code",
   "execution_count": null,
   "metadata": {},
   "outputs": [],
   "source": []
  }
 ],
 "metadata": {
  "kernelspec": {
   "display_name": "Python 3",
   "language": "python",
   "name": "python3"
  },
  "language_info": {
   "codemirror_mode": {
    "name": "ipython",
    "version": 3
   },
   "file_extension": ".py",
   "mimetype": "text/x-python",
   "name": "python",
   "nbconvert_exporter": "python",
   "pygments_lexer": "ipython3",
   "version": "3.7.3"
  }
 },
 "nbformat": 4,
 "nbformat_minor": 2
}
