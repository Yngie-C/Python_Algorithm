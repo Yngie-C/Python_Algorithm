{
 "cells": [
  {
   "cell_type": "markdown",
   "metadata": {},
   "source": [
    "# 더 맵게"
   ]
  },
  {
   "cell_type": "markdown",
   "metadata": {},
   "source": [
    "- [문제 링크](https://programmers.co.kr/learn/courses/30/lessons/42626)"
   ]
  },
  {
   "cell_type": "code",
   "execution_count": null,
   "metadata": {},
   "outputs": [],
   "source": [
    "import heapq\n",
    "\n",
    "def spicy(scoville, K):\n",
    "    heapq.heapify(scoville)\n",
    "    itr = 0\n",
    "    \n",
    "    try:\n",
    "        while scoville[0] < K:\n",
    "            min1 = heapq.heappop(scoville)\n",
    "            min2 = heapq.heappop(scoville)\n",
    "            heapq.heappush(scoville, min1 + 2 * min2)\n",
    "            itr += 1\n",
    "    except IndexError:\n",
    "        return -1\n",
    "    return itr"
   ]
  }
 ],
 "metadata": {
  "kernelspec": {
   "display_name": "Python 3",
   "language": "python",
   "name": "python3"
  },
  "language_info": {
   "codemirror_mode": {
    "name": "ipython",
    "version": 3
   },
   "file_extension": ".py",
   "mimetype": "text/x-python",
   "name": "python",
   "nbconvert_exporter": "python",
   "pygments_lexer": "ipython3",
   "version": "3.7.6"
  }
 },
 "nbformat": 4,
 "nbformat_minor": 4
}
