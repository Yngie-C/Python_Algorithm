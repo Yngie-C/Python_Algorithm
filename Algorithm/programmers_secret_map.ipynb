{
 "cells": [
  {
   "cell_type": "markdown",
   "metadata": {},
   "source": [
    "# 비밀 지도"
   ]
  },
  {
   "cell_type": "markdown",
   "metadata": {},
   "source": [
    "- [문제 링크](https://programmers.co.kr/learn/courses/30/lessons/17681)"
   ]
  },
  {
   "cell_type": "code",
   "execution_count": null,
   "metadata": {},
   "outputs": [],
   "source": [
    "def secret_map(n, arr1, arr2):\n",
    "    bin_arr1, bin_arr2 = [], []\n",
    "    for dec_num1, dec_num2 in zip(arr1, arr2):\n",
    "        bin_num1 = bin(dec_num1)[2:]\n",
    "        bin_num2 = bin(dec_num2)[2:]\n",
    "        if len(bin_num1) != n:\n",
    "            while len(bin_num1) < n:\n",
    "                bin_num1 = '0' + bin_num1\n",
    "        if len(bin_num2) != n:\n",
    "            while len(bin_num2) < n:\n",
    "                bin_num2 = '0' + bin_num2\n",
    "        bin_arr1.append(bin_num1)\n",
    "        bin_arr2.append(bin_num2)\n",
    "    \n",
    "    arr3 = []\n",
    "    for line1, line2 in zip(bin_arr1, bin_arr2):\n",
    "        num3 = ''\n",
    "        for num1, num2 in zip(line1, line2):\n",
    "            if num1 == '0' and num2 == '0':\n",
    "                num3 += ' '\n",
    "            else:\n",
    "                num3 += '#'\n",
    "        arr3.append(num3)\n",
    "        \n",
    "    answer = arr3\n",
    "    return answer"
   ]
  }
 ],
 "metadata": {
  "kernelspec": {
   "display_name": "Python 3",
   "language": "python",
   "name": "python3"
  },
  "language_info": {
   "codemirror_mode": {
    "name": "ipython",
    "version": 3
   },
   "file_extension": ".py",
   "mimetype": "text/x-python",
   "name": "python",
   "nbconvert_exporter": "python",
   "pygments_lexer": "ipython3",
   "version": "3.7.6"
  }
 },
 "nbformat": 4,
 "nbformat_minor": 4
}
