{
 "cells": [
  {
   "cell_type": "markdown",
   "metadata": {},
   "source": [
    "# 1주차"
   ]
  },
  {
   "cell_type": "markdown",
   "metadata": {},
   "source": [
    "- [adjacentElementsProduct](https://app.codesignal.com/arcade/intro/level-2/xzKiBHjhoinnpdh6m)"
   ]
  },
  {
   "cell_type": "code",
   "execution_count": 1,
   "metadata": {},
   "outputs": [],
   "source": [
    "def adjacentElementsProduct(inputArray):\n",
    "    productValueBefore = inputArray[0]*inputArray[1]\n",
    "    \n",
    "    for i in range(2,len(inputArray)):\n",
    "        productValueNow = inputArray[i-1]*inputArray[i]\n",
    "        if productValueBefore < productValueNow:\n",
    "            productValueBefore = productValueNow\n",
    "        else:\n",
    "            continue\n",
    "            \n",
    "    return productValueBefore"
   ]
  },
  {
   "cell_type": "markdown",
   "metadata": {},
   "source": [
    "- [shapeArea](https://app.codesignal.com/arcade/intro/level-2/yuGuHvcCaFCKk56rJ)"
   ]
  },
  {
   "cell_type": "code",
   "execution_count": 2,
   "metadata": {},
   "outputs": [],
   "source": [
    "def shapeArea(n):\n",
    "    area = 1\n",
    "    for i in range(n):\n",
    "        area += 4*i\n",
    "        \n",
    "    return area"
   ]
  },
  {
   "cell_type": "markdown",
   "metadata": {},
   "source": [
    "- [makeArrayConsecutive2](https://app.codesignal.com/arcade/intro/level-2/bq2XnSr5kbHqpHGJC)"
   ]
  },
  {
   "cell_type": "code",
   "execution_count": 3,
   "metadata": {},
   "outputs": [],
   "source": [
    "def makeArrayConsecutive2(statues):\n",
    "    sort_st = sorted(statues)\n",
    "    subs_count = 0\n",
    "    \n",
    "    for i in range(1,len(sort_st)):\n",
    "        subs_count += sort_st[i] - sort_st[i-1] - 1\n",
    "        \n",
    "    return subs_count"
   ]
  },
  {
   "cell_type": "markdown",
   "metadata": {},
   "source": [
    "- [almostIncreasingSequence](https://app.codesignal.com/arcade/intro/level-2/2mxbGwLzvkTCKAJMG)"
   ]
  },
  {
   "cell_type": "code",
   "execution_count": 4,
   "metadata": {},
   "outputs": [],
   "source": [
    "import copy\n",
    "\n",
    "def almostIncreasingSequence(sequence):\n",
    "    \n",
    "    def checkIncreasingSeq(seq):\n",
    "        for i in range(1,len(seq)):\n",
    "            elementSubs = seq[i] - seq[i-1]\n",
    "            if elementSubs <= 0:\n",
    "                return False\n",
    "        return True\n",
    "\n",
    "    seqRemovePrev = copy.deepcopy(sequence)\n",
    "    seqRemoveNext = copy.deepcopy(sequence)\n",
    "\n",
    "    for i in range(1, len(sequence)):\n",
    "        elementSubs = sequence[i] - sequence[i-1]\n",
    "        if elementSubs <= 0:\n",
    "            seqRemovePrev.pop(i-1)\n",
    "            seqRemoveNext.pop(i)\n",
    "            \n",
    "            if checkIncreasingSeq(seqRemovePrev) or checkIncreasingSeq(seqRemoveNext):\n",
    "                return True\n",
    "            else:\n",
    "                return False"
   ]
  },
  {
   "cell_type": "markdown",
   "metadata": {},
   "source": [
    "- [matrixElementsSum](https://app.codesignal.com/arcade/intro/level-2/xskq4ZxLyqQMCLshr)"
   ]
  },
  {
   "cell_type": "code",
   "execution_count": 5,
   "metadata": {},
   "outputs": [],
   "source": [
    "def matrixElementsSum(matrix):\n",
    "    summation = 0\n",
    "\n",
    "    for j in range(len(matrix[0])):\n",
    "        for i in range(len(matrix)):\n",
    "            if matrix[i][j]:\n",
    "                summation += matrix[i][j]\n",
    "            else:\n",
    "                break\n",
    "                \n",
    "    return summation"
   ]
  }
 ],
 "metadata": {
  "kernelspec": {
   "display_name": "Python 3.7.6 64-bit ('Basicenv': conda)",
   "language": "python",
   "name": "python37664bitbasicenvconda67009c115e7d469fb52b40873612ad24"
  },
  "language_info": {
   "codemirror_mode": {
    "name": "ipython",
    "version": 3
   },
   "file_extension": ".py",
   "mimetype": "text/x-python",
   "name": "python",
   "nbconvert_exporter": "python",
   "pygments_lexer": "ipython3",
   "version": "3.7.6"
  }
 },
 "nbformat": 4,
 "nbformat_minor": 4
}
