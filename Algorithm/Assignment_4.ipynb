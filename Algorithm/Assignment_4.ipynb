{
 "cells": [
  {
   "cell_type": "markdown",
   "metadata": {},
   "source": [
    "### No.2"
   ]
  },
  {
   "cell_type": "code",
   "execution_count": 2,
   "metadata": {},
   "outputs": [
    {
     "name": "stdout",
     "output_type": "stream",
     "text": [
      "[3.50293260828117, 8.48455411816382, 1.2872683672480743, 3.245484523021441, 0.9437876638073426, 3.1080825981832927, 2.9606944866068825, 8.684985591248662, 6.7372538931336985, 8.03065703395254, 2.2348428543712258, 6.883705803155899, 5.975839146116214, 8.751590376190215, 1.6378373543361284, 2.1134137283551233, 8.910745069518686, 6.23942282597281, 1.7789262885004038, 8.745338313504647, 2.7494481313153374, 2.440668837009775, 4.115076212970185, 4.812121795482971, 7.300505831210571, 3.6131212699546147, 4.614306537260778, 7.19711499702066, 3.377183339606049, 1.4689670747756214]\n",
      "[4, 8, 2, 3, 1, 3, 3, 8, 7, 8, 3, 7, 6, 8, 2, 3, 8, 6, 2, 8, 3, 3, 4, 5, 7, 4, 5, 7, 3, 2]\n"
     ]
    }
   ],
   "source": [
    "import random\n",
    "import math\n",
    "\n",
    "list2 = [random.uniform(0,9) for i in range(30)]\n",
    "print(list2)\n",
    "list2_1 = []\n",
    "\n",
    "for j in list2:\n",
    "    if (0 <= j < 3):\n",
    "        int_num = math.ceil(j)\n",
    "        list2_1.append(int_num)\n",
    "    elif (3 <= j < 7):\n",
    "        int_num = round(j)\n",
    "        list2_1.append(int_num)\n",
    "    else:\n",
    "        int_num = math.floor(j)\n",
    "        list2_1.append(int_num)\n",
    "print(list2_1)"
   ]
  },
  {
   "cell_type": "markdown",
   "metadata": {},
   "source": [
    "### No.3"
   ]
  },
  {
   "cell_type": "code",
   "execution_count": 3,
   "metadata": {},
   "outputs": [
    {
     "name": "stdout",
     "output_type": "stream",
     "text": [
      "Min :  2 \n",
      "Max :  99\n",
      "Min Index :  5 \n",
      "Max Index :  10\n"
     ]
    }
   ],
   "source": [
    "list3 = [random.randint(1, 100) for i in range(50)]\n",
    "\n",
    "list3_1 = sorted(list3)\n",
    "min_n = list3_1[0]\n",
    "max_n = list3_1[-1]\n",
    "print(\"Min : \", list3_1[0], \"\\nMax : \", list3_1[-1])\n",
    "print(\"Min Index : \", list3.index(min_n), \"\\nMax Index : \",list3.index(max_n))"
   ]
  },
  {
   "cell_type": "markdown",
   "metadata": {},
   "source": [
    "### No.4"
   ]
  },
  {
   "cell_type": "code",
   "execution_count": 4,
   "metadata": {},
   "outputs": [
    {
     "name": "stdout",
     "output_type": "stream",
     "text": [
      "135\n",
      "138\n"
     ]
    }
   ],
   "source": [
    "list4 = [num4 for num4 in range(1,201)]\n",
    "random.shuffle(list4)\n",
    "print(list4.index(1))\n",
    "print(list4.index(200))"
   ]
  },
  {
   "cell_type": "markdown",
   "metadata": {},
   "source": [
    "### No.5"
   ]
  },
  {
   "cell_type": "code",
   "execution_count": 5,
   "metadata": {},
   "outputs": [
    {
     "name": "stdout",
     "output_type": "stream",
     "text": [
      "정사각형의 넓이를 입력해주세요.4\n",
      "2.0\n"
     ]
    }
   ],
   "source": [
    "S = float(input(\"정사각형의 넓이를 입력해주세요.\"))\n",
    "length = math.sqrt(S)\n",
    "print(length)"
   ]
  },
  {
   "cell_type": "markdown",
   "metadata": {},
   "source": [
    "### No.6"
   ]
  },
  {
   "cell_type": "code",
   "execution_count": 6,
   "metadata": {},
   "outputs": [
    {
     "name": "stdout",
     "output_type": "stream",
     "text": [
      "[2, 3, 5, 7, 11, 13, 17, 19, 23, 29, 31, 37, 41, 43, 47]\n"
     ]
    }
   ],
   "source": [
    "list6 = [num6 for num6 in range(1, 51)]\n",
    "\n",
    "i = 0\n",
    "\n",
    "while (list6[i] < math.sqrt(50)):\n",
    "    if (list6[i] == 1):\n",
    "        list6.remove(1)\n",
    "    else:\n",
    "        j = i+1\n",
    "        while (j < len(list6)):\n",
    "            if ((list6[j] % list6[i]) == 0):\n",
    "                list6.remove(list6[j])\n",
    "            j += 1\n",
    "        i += 1\n",
    "#         not_prime = list6[i] * mul\n",
    "#         while (not_prime <= 50):\n",
    "#             try:\n",
    "#                 list6.remove(not_prime)\n",
    "#                 mul += 1\n",
    "#             except ValueError:\n",
    "#                 mul += 1\n",
    "#                 continue\n",
    "                \n",
    "print(list6)"
   ]
  },
  {
   "cell_type": "markdown",
   "metadata": {},
   "source": [
    "### No.7"
   ]
  },
  {
   "cell_type": "code",
   "execution_count": 9,
   "metadata": {},
   "outputs": [
    {
     "name": "stdout",
     "output_type": "stream",
     "text": [
      "[2, 3, 5, 7, 11, 13, 17, 19, 23, 29, 31, 37, 41, 43, 47, 53, 59, 61, 67, 71, 73, 79, 83, 89, 97, 101, 103, 107, 109, 113, 121, 127, 131, 137, 139, 143, 149, 151, 157, 163, 167, 169, 173, 179, 181, 187, 191, 193, 197, 199]\n"
     ]
    }
   ],
   "source": [
    "list7 = [num7 for num7 in range(1, 201)]\n",
    "\n",
    "i = 0\n",
    "\n",
    "while (list7[i] < math.sqrt(50)):\n",
    "    if (list7[i] == 1):\n",
    "        list7.remove(1)\n",
    "    else:\n",
    "        j = i+1\n",
    "        while (j < len(list7)):\n",
    "            if ((list7[j] % list7[i]) == 0):\n",
    "                list7.remove(list7[j])\n",
    "            j += 1\n",
    "        i += 1\n",
    "        \n",
    "print(list7)"
   ]
  },
  {
   "cell_type": "markdown",
   "metadata": {},
   "source": [
    "### No.8"
   ]
  },
  {
   "cell_type": "code",
   "execution_count": 11,
   "metadata": {},
   "outputs": [
    {
     "name": "stdout",
     "output_type": "stream",
     "text": [
      "[25, 139, 281, 146, 228, 46, 480, 174, 121, 449, 291, 21, 12, 318, 88, 177, 272, 310, 207, 448, 402, 290, 161, 437, 99, 126, 47, 166, 414, 134, 135, 291, 418, 38, 155, 285, 449, 217, 324, 368, 18, 419, 82, 342, 16, 98, 14, 345, 184, 192]\n",
      "[12, 14, 16, 18, 21, 25, 38, 46, 47, 82, 88, 98, 99, 121, 126, 134, 135, 139, 146, 155, 161, 166, 174, 177, 184, 192, 207, 217, 228, 272, 281, 285, 290, 291, 291, 310, 318, 324, 342, 345, 368, 402, 414, 418, 419, 437, 448, 449, 449, 480]\n"
     ]
    }
   ],
   "source": [
    "list8 = [random.randint(1,500) for num8 in range(1, 51)]\n",
    "print(list8)\n",
    "\n",
    "for i in range(len(list8)):\n",
    "    for j in range(len(list8)-1):\n",
    "        if (list8[j] > list8[j+1]):\n",
    "            temp = list8[j]\n",
    "            list8[j] = list8[j+1]\n",
    "            list8[j+1] = temp\n",
    "            \n",
    "print(list8)"
   ]
  },
  {
   "cell_type": "markdown",
   "metadata": {},
   "source": [
    "### No.9"
   ]
  },
  {
   "cell_type": "code",
   "execution_count": 12,
   "metadata": {},
   "outputs": [
    {
     "name": "stdout",
     "output_type": "stream",
     "text": [
      "[116, 95, 460, 47, 421, 237, 161, 188, 497, 83, 361, 431, 434, 405, 460, 498, 48, 11, 99, 460, 6, 375, 209, 313, 194, 465, 322, 479, 366, 80, 280, 139, 366, 297, 123, 109, 51, 94, 212, 182, 471, 35, 226, 469, 282, 25, 43, 123, 219, 199]\n",
      "[6, 11, 25, 35, 43, 47, 48, 51, 80, 83, 94, 95, 99, 109, 116, 123, 123, 139, 161, 182, 188, 194, 199, 209, 212, 219, 226, 237, 280, 282, 297, 313, 322, 361, 366, 366, 375, 405, 421, 431, 434, 460, 460, 460, 465, 469, 471, 479, 497, 498]\n"
     ]
    }
   ],
   "source": [
    "list9 = [random.randint(1,500) for num9 in range(1, 51)]\n",
    "print(list9)\n",
    "# min_num = list9[0]\n",
    "# min_index = list9.index(min_num)\n",
    "for j in range(len(list9)):\n",
    "    min_num = list9[j]\n",
    "    min_index = list9.index(min_num)\n",
    "    for i in range(j+1, len(list9)):\n",
    "        if (list9[i] < min_num):\n",
    "            min_num = list9[i]\n",
    "            min_index = i\n",
    "    list9[min_index] = list9[j]\n",
    "    list9[j] = min_num\n",
    "\n",
    "print(list9)"
   ]
  },
  {
   "cell_type": "markdown",
   "metadata": {},
   "source": [
    "### No.10"
   ]
  },
  {
   "cell_type": "code",
   "execution_count": 13,
   "metadata": {},
   "outputs": [
    {
     "name": "stdout",
     "output_type": "stream",
     "text": [
      "[5, 12, 14, 43, 55, 59, 79, 92, 101, 108, 116, 120, 128, 152, 167, 207, 213, 214, 215, 224, 264, 274, 294, 302, 309, 319, 333, 337, 352, 359, 385, 404, 408, 409, 412, 415, 415, 423, 434, 436, 450, 455, 458, 459, 460, 473, 476, 481, 483, 489]\n",
      "Wanted Number is : 101\n",
      "8\n",
      "Right\n"
     ]
    }
   ],
   "source": [
    "list10 = [random.randint(1,500) for num9 in range(1, 51)]\n",
    "list10_sort = sorted(list10)\n",
    "print(list10_sort)\n",
    "\n",
    "wtd_num = int(input(\"Wanted Number is : \"))\n",
    "\n",
    "first = 0\n",
    "last = 49\n",
    "\n",
    "while 1:\n",
    "    med_index = math.floor((first+last)/2)\n",
    "    if (list10_sort[med_index] == wtd_num):\n",
    "        print(med_index)\n",
    "        break\n",
    "    elif (list10_sort[med_index] > wtd_num):\n",
    "        last = med_index - 1\n",
    "    else:\n",
    "        first = med_index + 1\n",
    "        \n",
    "if (list10_sort.index(wtd_num) == med_index):\n",
    "    print(\"Right\")"
   ]
  },
  {
   "cell_type": "code",
   "execution_count": null,
   "metadata": {},
   "outputs": [],
   "source": []
  }
 ],
 "metadata": {
  "kernelspec": {
   "display_name": "Python 3",
   "language": "python",
   "name": "python3"
  },
  "language_info": {
   "codemirror_mode": {
    "name": "ipython",
    "version": 3
   },
   "file_extension": ".py",
   "mimetype": "text/x-python",
   "name": "python",
   "nbconvert_exporter": "python",
   "pygments_lexer": "ipython3",
   "version": "3.7.3"
  }
 },
 "nbformat": 4,
 "nbformat_minor": 2
}
