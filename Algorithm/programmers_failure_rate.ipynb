{
 "cells": [
  {
   "cell_type": "markdown",
   "metadata": {},
   "source": [
    "# 실패율"
   ]
  },
  {
   "cell_type": "markdown",
   "metadata": {},
   "source": [
    "- [문제 링크](https://programmers.co.kr/learn/courses/30/lessons/42889)"
   ]
  },
  {
   "cell_type": "code",
   "execution_count": null,
   "metadata": {},
   "outputs": [],
   "source": [
    "def failure_rate(N, stages):\n",
    "    answer_dict0 = {}\n",
    "    \n",
    "    for i in range(1, N+1):\n",
    "        if stages.count(i) == 0:\n",
    "            values = 0\n",
    "        else:\n",
    "            values = stages.count(i) / len([x for x in stages if x >= i])\n",
    "        answer_dict0.update({i : values})\n",
    "            \n",
    "    answer_dict1 = sorted(answer_dict0.items(), key=lambda x: x[1], reverse = True)\n",
    "    answer = [x[0] for x in answer_dict1]\n",
    "    \n",
    "    return answer"
   ]
  }
 ],
 "metadata": {
  "kernelspec": {
   "display_name": "Python 3",
   "language": "python",
   "name": "python3"
  },
  "language_info": {
   "codemirror_mode": {
    "name": "ipython",
    "version": 3
   },
   "file_extension": ".py",
   "mimetype": "text/x-python",
   "name": "python",
   "nbconvert_exporter": "python",
   "pygments_lexer": "ipython3",
   "version": "3.7.6"
  }
 },
 "nbformat": 4,
 "nbformat_minor": 4
}
