{
 "cells": [
  {
   "cell_type": "markdown",
   "metadata": {},
   "source": [
    "### No.1"
   ]
  },
  {
   "cell_type": "code",
   "execution_count": 1,
   "metadata": {},
   "outputs": [
    {
     "name": "stdout",
     "output_type": "stream",
     "text": [
      "55\n"
     ]
    }
   ],
   "source": [
    "list1 = [num for num in range(1,11)]\n",
    "print(sum(list1))"
   ]
  },
  {
   "cell_type": "markdown",
   "metadata": {},
   "source": [
    "### No.2"
   ]
  },
  {
   "cell_type": "code",
   "execution_count": 2,
   "metadata": {},
   "outputs": [
    {
     "data": {
      "text/plain": [
       "[8, 9, 10, 8, 9, 10, 8, 9, 10, 8, 9, 10, 8, 9, 10]"
      ]
     },
     "execution_count": 2,
     "metadata": {},
     "output_type": "execute_result"
    }
   ],
   "source": [
    "list2 = list1[7:]\n",
    "list2 * 5"
   ]
  },
  {
   "cell_type": "markdown",
   "metadata": {},
   "source": [
    "### No.3"
   ]
  },
  {
   "cell_type": "code",
   "execution_count": 3,
   "metadata": {},
   "outputs": [
    {
     "name": "stdout",
     "output_type": "stream",
     "text": [
      "앞면 / 뒷면 중 하나를 입력해주세요 : 앞면\n",
      "안타깝네요. 다시 도전해보세요 :)\n",
      "앞면 / 뒷면 중 하나를 입력해주세요 : 앞면\n",
      "안타깝네요. 다시 도전해보세요 :)\n",
      "앞면 / 뒷면 중 하나를 입력해주세요 : 앞면\n",
      "축하합니다! 정답입니다.\n"
     ]
    }
   ],
   "source": [
    "import random\n",
    "\n",
    "while (1):\n",
    "    num = random.randint(0,1)\n",
    "    if (num == 1):\n",
    "        FB = '앞면'\n",
    "    else:\n",
    "        FB = '뒷면'\n",
    "    \n",
    "    user_input = input('앞면 / 뒷면 중 하나를 입력해주세요 : ')\n",
    "    \n",
    "    if (user_input == FB):\n",
    "        print('축하합니다! 정답입니다.')\n",
    "        break        #편의상 break 추가\n",
    "    else:\n",
    "        print('안타깝네요. 다시 도전해보세요 :)')\n",
    "        continue"
   ]
  },
  {
   "cell_type": "markdown",
   "metadata": {},
   "source": [
    "### No.4"
   ]
  },
  {
   "cell_type": "code",
   "execution_count": 4,
   "metadata": {},
   "outputs": [
    {
     "name": "stdout",
     "output_type": "stream",
     "text": [
      "가위 / 바위 / 보 중 하나를 입력해주세요 : 보\n",
      "컴퓨터 :  보 \n",
      "나 :  보\n",
      "비겼습니다. 다시 도전해보세요 :)\n",
      "가위 / 바위 / 보 중 하나를 입력해주세요 : 보\n",
      "컴퓨터 :  바위 \n",
      "나 :  보\n",
      "축하합니다! 이겼습니다.\n"
     ]
    }
   ],
   "source": [
    "S, R, P = ['가위', '바위', '보']\n",
    "\n",
    "while (1):\n",
    "    num = random.randint(0,2)\n",
    "    if (num == 0):\n",
    "        RSP = S\n",
    "    elif (num == 1):\n",
    "        RSP = R\n",
    "    else:\n",
    "        RSP = P\n",
    "    \n",
    "    user_input = input('가위 / 바위 / 보 중 하나를 입력해주세요 : ')\n",
    "    print('컴퓨터 : ', RSP, '\\n나 : ', user_input)\n",
    "    \n",
    "    if (user_input == RSP):\n",
    "        print('비겼습니다. 다시 도전해보세요 :)')\n",
    "        continue\n",
    "    elif (user_input == S):\n",
    "        if (RSP == P):\n",
    "            print('축하합니다! 이겼습니다.')\n",
    "            break        # 편의상 break 추가\n",
    "        else:\n",
    "            print('안타깝네요. 다시 도전해보세요 :)')\n",
    "            continue\n",
    "    elif (user_input == R):\n",
    "        if (RSP == S):\n",
    "            print('축하합니다! 이겼습니다.')\n",
    "            break        # 편의상 break 추가\n",
    "        else:\n",
    "            print('안타깝네요. 다시 도전해보세요 :)')\n",
    "            continue\n",
    "    else:\n",
    "        if (RSP == R):\n",
    "            print('축하합니다! 이겼습니다.')\n",
    "            break        # 편의상 break 추가\n",
    "        else:\n",
    "            print('안타깝네요. 다시 도전해보세요 :)')\n",
    "            continue"
   ]
  },
  {
   "cell_type": "markdown",
   "metadata": {},
   "source": [
    "### No.5"
   ]
  },
  {
   "cell_type": "code",
   "execution_count": 5,
   "metadata": {},
   "outputs": [
    {
     "name": "stdout",
     "output_type": "stream",
     "text": [
      "승리입니다.\n",
      "dice1 : 1, dice2 : 5\n"
     ]
    }
   ],
   "source": [
    "dice1 = random.randint(1,6)\n",
    "dice2 = random.randint(1,6)\n",
    "\n",
    "if (dice1 == 6 and dice2 == 6):\n",
    "    print('무승부입니다.')\n",
    "elif (dice1 >= 5 or dice2 >= 5):\n",
    "    print('승리입니다.')\n",
    "else:\n",
    "    print('패배입니다.')\n",
    "    \n",
    "print('dice1 : %d, dice2 : %d' %(dice1, dice2))"
   ]
  },
  {
   "cell_type": "markdown",
   "metadata": {},
   "source": [
    "### No.6"
   ]
  },
  {
   "cell_type": "code",
   "execution_count": 6,
   "metadata": {},
   "outputs": [
    {
     "name": "stdout",
     "output_type": "stream",
     "text": [
      "[1, 2, 3, 1, 2, 3]\n",
      "[1, 2, 3]\n",
      "2.0\n"
     ]
    }
   ],
   "source": [
    "list6 = [1, 2, 3]\n",
    "r_num = random.randint(1,5)\n",
    "list6_2 = list6 * r_num\n",
    "\n",
    "print(list6_2)\n",
    "print(list6)\n",
    "print(len(list6_2) / len(list6))"
   ]
  },
  {
   "cell_type": "markdown",
   "metadata": {},
   "source": [
    "### No.7"
   ]
  },
  {
   "cell_type": "code",
   "execution_count": 7,
   "metadata": {},
   "outputs": [
    {
     "name": "stdout",
     "output_type": "stream",
     "text": [
      "[1, 2, 3, 4, 5, 6, 7, 8, 9, 10, 11, 12, 13, 14, 15, 16, 17, 18, 19, 20]\n"
     ]
    }
   ],
   "source": [
    "list_odd = [odd for odd in range(1,21) if (odd % 2) != 0]\n",
    "for even in range(1,21):\n",
    "    if (even % 2 == 0):\n",
    "        list_odd.insert(even-1, even)\n",
    "        \n",
    "print(list_odd)"
   ]
  },
  {
   "cell_type": "code",
   "execution_count": 8,
   "metadata": {},
   "outputs": [],
   "source": [
    "# list_odd2 = [odd for odd in range(1,21) if (odd % 2) != 0]\n",
    "\n",
    "# for even2 in list_odd2:\n",
    "#     list_odd2.insert(even2, even2+1)\n",
    "    \n",
    "# list_odd2"
   ]
  },
  {
   "cell_type": "markdown",
   "metadata": {},
   "source": [
    "### No.8"
   ]
  },
  {
   "cell_type": "code",
   "execution_count": 9,
   "metadata": {},
   "outputs": [
    {
     "name": "stdout",
     "output_type": "stream",
     "text": [
      "[1, 2, 3, 4, 6, 7, 8, 9, 11, 12, 13, 14, 16, 17, 18, 19, 21, 22, 23, 24, 26, 27, 28, 29, 31, 32, 33, 34, 36, 37, 38, 39, 41, 42, 43, 44, 46, 47, 48, 49]\n"
     ]
    }
   ],
   "source": [
    "list8 = [num for num in range(1,51)]\n",
    "for num_5 in list8:\n",
    "    if (num_5 % 5 == 0):\n",
    "        list8.remove(num_5)\n",
    "\n",
    "print(list8)"
   ]
  },
  {
   "cell_type": "markdown",
   "metadata": {},
   "source": [
    "### No.9"
   ]
  },
  {
   "cell_type": "code",
   "execution_count": 10,
   "metadata": {},
   "outputs": [
    {
     "name": "stdout",
     "output_type": "stream",
     "text": [
      "[3, 1, 3, 3, 2, 3, 1, 2, 1, 3, 2, 4, 2, 1, 4, 2, 2, 2, 2, 1, 3, 2, 1, 3, 4, 4, 3, 4, 1, 3] 30 5\n",
      "[3, 1, 3, 3, 2, 3, 1, 2, 1, 3, 2, 2, 1, 2, 2, 2, 2, 1, 3, 2, 1, 3, 3, 1, 3] 25\n"
     ]
    }
   ],
   "source": [
    "list9 = []\n",
    "for i in range(30):\n",
    "    num = random.randint(1,4)\n",
    "    list9.append(num)\n",
    "\n",
    "print(list9, len(list9), list9.count(4))\n",
    "\n",
    "for j in range(list9.count(4)):\n",
    "    list9.remove(4)\n",
    "\n",
    "print(list9, len(list9))"
   ]
  },
  {
   "cell_type": "markdown",
   "metadata": {},
   "source": [
    "### No.10"
   ]
  },
  {
   "cell_type": "code",
   "execution_count": 11,
   "metadata": {},
   "outputs": [
    {
     "name": "stdout",
     "output_type": "stream",
     "text": [
      "66 , 27\n"
     ]
    }
   ],
   "source": [
    "list10 = []\n",
    "for rp in range(40):\n",
    "    num = random.randint(1,5)\n",
    "    list10.append(num)\n",
    "\n",
    "for rp2 in range(13):\n",
    "    list10.pop(min(list10))\n",
    "\n",
    "print(sum(list10), ',', len(list10))"
   ]
  },
  {
   "cell_type": "code",
   "execution_count": null,
   "metadata": {},
   "outputs": [],
   "source": []
  }
 ],
 "metadata": {
  "kernelspec": {
   "display_name": "Python 3",
   "language": "python",
   "name": "python3"
  },
  "language_info": {
   "codemirror_mode": {
    "name": "ipython",
    "version": 3
   },
   "file_extension": ".py",
   "mimetype": "text/x-python",
   "name": "python",
   "nbconvert_exporter": "python",
   "pygments_lexer": "ipython3",
   "version": "3.7.3"
  }
 },
 "nbformat": 4,
 "nbformat_minor": 2
}
