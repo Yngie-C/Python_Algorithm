{
 "cells": [
  {
   "cell_type": "markdown",
   "metadata": {},
   "source": [
    "# 콜라츠 추측"
   ]
  },
  {
   "cell_type": "markdown",
   "metadata": {},
   "source": [
    "- [문제 링크](https://programmers.co.kr/learn/courses/30/lessons/12943)"
   ]
  },
  {
   "cell_type": "code",
   "execution_count": null,
   "metadata": {},
   "outputs": [],
   "source": [
    "def Collatz_conjecture(num):\n",
    "    i = 0\n",
    "\n",
    "    while (i < 500):\n",
    "        if (num == 1):\n",
    "            break\n",
    "        elif (num % 2 == 0):\n",
    "            num = num / 2\n",
    "        else:\n",
    "            num = (num * 3) + 1\n",
    "        i += 1\n",
    "\n",
    "    if (i >= 500):\n",
    "        answer = -1\n",
    "    else:\n",
    "        answer = i\n",
    "    \n",
    "    return answer"
   ]
  }
 ],
 "metadata": {
  "kernelspec": {
   "display_name": "Python 3",
   "language": "python",
   "name": "python3"
  },
  "language_info": {
   "codemirror_mode": {
    "name": "ipython",
    "version": 3
   },
   "file_extension": ".py",
   "mimetype": "text/x-python",
   "name": "python",
   "nbconvert_exporter": "python",
   "pygments_lexer": "ipython3",
   "version": "3.7.6"
  }
 },
 "nbformat": 4,
 "nbformat_minor": 4
}
