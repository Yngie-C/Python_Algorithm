{
 "cells": [
  {
   "cell_type": "markdown",
   "metadata": {},
   "source": [
    "# 기능개발"
   ]
  },
  {
   "cell_type": "markdown",
   "metadata": {},
   "source": [
    "- [문제 링크](https://programmers.co.kr/learn/courses/30/lessons/42586)"
   ]
  },
  {
   "cell_type": "code",
   "execution_count": null,
   "metadata": {},
   "outputs": [],
   "source": [
    "import math\n",
    "\n",
    "def develop(progresses, speeds):\n",
    "    due_list = []\n",
    "    \n",
    "    for i, j in zip(progresses, speeds):\n",
    "        due = math.ceil((100-i)/j)\n",
    "        due_list.append(due)\n",
    "    print(due_list)\n",
    "    idx = 0\n",
    "    step = 0\n",
    "    maximum_date = 0\n",
    "    answer_list = []\n",
    "    \n",
    "    while idx < len(due_list):\n",
    "        if due_list[idx] > maximum_date:\n",
    "            answer = (idx - step)\n",
    "            answer_list.append(answer)\n",
    "            step = idx\n",
    "            maximum_date = due_list[idx]\n",
    "        idx += 1\n",
    "    else:\n",
    "        answer = (idx - step)\n",
    "        answer_list.append(answer)\n",
    "        step = idx\n",
    "        answer_list.pop(0)\n",
    "    \n",
    "    return answer_list"
   ]
  }
 ],
 "metadata": {
  "kernelspec": {
   "display_name": "Python 3",
   "language": "python",
   "name": "python3"
  },
  "language_info": {
   "codemirror_mode": {
    "name": "ipython",
    "version": 3
   },
   "file_extension": ".py",
   "mimetype": "text/x-python",
   "name": "python",
   "nbconvert_exporter": "python",
   "pygments_lexer": "ipython3",
   "version": "3.7.6"
  }
 },
 "nbformat": 4,
 "nbformat_minor": 4
}
