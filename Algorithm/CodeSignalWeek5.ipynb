{
 "cells": [
  {
   "cell_type": "markdown",
   "metadata": {},
   "source": [
    "# 5주차"
   ]
  },
  {
   "cell_type": "markdown",
   "metadata": {},
   "source": [
    "- [arrayReplace](https://app.codesignal.com/arcade/intro/level-6/mCkmbxdMsMTjBc3Bm)"
   ]
  },
  {
   "cell_type": "code",
   "execution_count": 1,
   "metadata": {},
   "outputs": [],
   "source": [
    "def arrayReplace(inputArray, elemToReplace, substitutionElem):\n",
    "    for idx in range(len(inputArray)):\n",
    "        if inputArray[idx] == elemToReplace:\n",
    "            inputArray[idx] = substitutionElem\n",
    "            \n",
    "    return inputArray"
   ]
  },
  {
   "cell_type": "markdown",
   "metadata": {},
   "source": [
    "- [evenDigitsOnly](https://app.codesignal.com/arcade/intro/level-6/6cmcmszJQr6GQzRwW)"
   ]
  },
  {
   "cell_type": "code",
   "execution_count": 2,
   "metadata": {},
   "outputs": [],
   "source": [
    "def evenDigitsOnly(n):\n",
    "\n",
    "    numToStrList = [digit for digit in str(n)]\n",
    "    boolList = []\n",
    "    \n",
    "    for digit in numToStrList:\n",
    "        if int(digit)%2 == 0:\n",
    "            boolList.append(True)\n",
    "        else:\n",
    "            boolList.append(False)\n",
    "    \n",
    "    answer = all(boolList)\n",
    "    return answer"
   ]
  },
  {
   "cell_type": "markdown",
   "metadata": {},
   "source": [
    "- [variableName](https://app.codesignal.com/arcade/intro/level-6/6Wv4WsrsMJ8Y2Fwno)"
   ]
  },
  {
   "cell_type": "code",
   "execution_count": 4,
   "metadata": {},
   "outputs": [],
   "source": [
    "import re\n",
    "\n",
    "def variableName(name):\n",
    "    char = re.compile(\"[a-zA-Z]\")\n",
    "    num = re.compile(\"[0-9]\")\n",
    "    underscore = re.compile(\"_\")\n",
    "    \n",
    "    nameRemoveChar = re.sub(char, '', name)\n",
    "    nameRemoveNum = re.sub(num, '', nameRemoveChar)\n",
    "    nameRemoveUnderscore = re.sub(underscore, '', nameRemoveNum)\n",
    "    \n",
    "    digitList = [str(i) for i in range(10)]\n",
    "    \n",
    "    try:\n",
    "        if nameRemoveUnderscore or name[0] in digitList:\n",
    "            return False\n",
    "        else:\n",
    "            return True\n",
    "    except:\n",
    "        return True"
   ]
  },
  {
   "cell_type": "markdown",
   "metadata": {},
   "source": [
    "- [alphabeticShift](https://app.codesignal.com/arcade/intro/level-6/PWLT8GBrv9xXy4Dui)"
   ]
  },
  {
   "cell_type": "code",
   "execution_count": 5,
   "metadata": {},
   "outputs": [],
   "source": [
    "def alphabeticShift(inputString):\n",
    "    strToAsciiList = [ord(char) for char in inputString]\n",
    "    \n",
    "    for i in range(len(strToAsciiList)):\n",
    "        if strToAsciiList[i] == ord(\"z\"):\n",
    "            strToAsciiList[i] = ord(\"a\")\n",
    "        else:\n",
    "            strToAsciiList[i] += 1\n",
    "    \n",
    "    answerList = [chr(num) for num in strToAsciiList]\n",
    "    answer = ''.join(answerList)\n",
    "    \n",
    "    return answer"
   ]
  },
  {
   "cell_type": "markdown",
   "metadata": {},
   "source": [
    "- [chessBoardCellColor](https://app.codesignal.com/arcade/intro/level-6/t97bpjfrMDZH8GJhi)"
   ]
  },
  {
   "cell_type": "code",
   "execution_count": 6,
   "metadata": {},
   "outputs": [],
   "source": [
    "def chessBoardCellColor(cell1, cell2):\n",
    "    def sumOfIdx(string):\n",
    "        horizontalIdx = [chr(num) for num in range(ord('A'), ord('H')+1)]\n",
    "        verticalIdx = [str(num) for num in range(1,9)]\n",
    "        \n",
    "        summation = horizontalIdx.index(string[0]) + verticalIdx.index(string[1])\n",
    "        return summation\n",
    "    \n",
    "    if sumOfIdx(cell1)%2 == sumOfIdx(cell2)%2:\n",
    "        return True\n",
    "    else:\n",
    "        return False"
   ]
  }
 ],
 "metadata": {
  "kernelspec": {
   "display_name": "Python 3.7.6 64-bit ('Basicenv': conda)",
   "language": "python",
   "name": "python37664bitbasicenvconda67009c115e7d469fb52b40873612ad24"
  },
  "language_info": {
   "codemirror_mode": {
    "name": "ipython",
    "version": 3
   },
   "file_extension": ".py",
   "mimetype": "text/x-python",
   "name": "python",
   "nbconvert_exporter": "python",
   "pygments_lexer": "ipython3",
   "version": "3.7.6"
  }
 },
 "nbformat": 4,
 "nbformat_minor": 4
}
