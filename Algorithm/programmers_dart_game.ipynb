{
 "cells": [
  {
   "cell_type": "markdown",
   "metadata": {},
   "source": [
    "# 다트 게임"
   ]
  },
  {
   "cell_type": "markdown",
   "metadata": {},
   "source": [
    "- [문제 링크](https://programmers.co.kr/learn/courses/30/lessons/17682)"
   ]
  },
  {
   "cell_type": "code",
   "execution_count": null,
   "metadata": {},
   "outputs": [],
   "source": [
    "def dart_trial(dartResult):\n",
    "    dart_result=\"\"\n",
    "    for letter in dartResult:\n",
    "        if ord(\"0\") <= ord(letter) <= ord(\"9\"):\n",
    "            dart_result += \" \" + letter\n",
    "        else:\n",
    "            dart_result += letter\n",
    "    \n",
    "    dart_result_strip = dart_result.strip()\n",
    "    trial = dart_result_strip.split(\" \")\n",
    "    \n",
    "    for j in range(len(trial)):\n",
    "        try:\n",
    "            if trial[j] == \"1\":\n",
    "                trial.pop(j)\n",
    "                trial[j] = \"1\" + trial[j]\n",
    "        except IndexError:\n",
    "            pass\n",
    "\n",
    "    score_list = []\n",
    "    for j in range(len(trial)):\n",
    "        if trial[j][1] == \"0\":\n",
    "            if \"D\" in trial[j]:\n",
    "                score_list.append(10 ** 2)\n",
    "            elif \"T\" in trial[j]:\n",
    "                score_list.append(10 ** 3)\n",
    "            else:\n",
    "                score_list.append(10)\n",
    "        else:\n",
    "            if \"D\" in trial[j]:\n",
    "                score_list.append(int(trial[j][0]) ** 2)\n",
    "            elif \"T\" in trial[j]:\n",
    "                score_list.append(int(trial[j][0]) ** 3)\n",
    "            else:\n",
    "                score_list.append(int(trial[j][0]))\n",
    "        \n",
    "        if j == 0 and \"*\" in trial[j]: \n",
    "            score_list[0] = score_list[0] * 2\n",
    "        elif \"*\" in trial[j]:\n",
    "            score_list[j-1],score_list[j] = score_list[j-1] * 2, score_list[j] * 2\n",
    "        elif \"#\" in trial[j]:\n",
    "            score_list[j] = score_list[j] * -1\n",
    "    \n",
    "    answer = sum(score_list)\n",
    "    return answer"
   ]
  }
 ],
 "metadata": {
  "kernelspec": {
   "display_name": "Python 3",
   "language": "python",
   "name": "python3"
  },
  "language_info": {
   "codemirror_mode": {
    "name": "ipython",
    "version": 3
   },
   "file_extension": ".py",
   "mimetype": "text/x-python",
   "name": "python",
   "nbconvert_exporter": "python",
   "pygments_lexer": "ipython3",
   "version": "3.7.6"
  }
 },
 "nbformat": 4,
 "nbformat_minor": 4
}
