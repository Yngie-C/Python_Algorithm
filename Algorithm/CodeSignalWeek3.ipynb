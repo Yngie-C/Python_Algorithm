{
 "cells": [
  {
   "cell_type": "markdown",
   "metadata": {},
   "source": [
    "# 3주차"
   ]
  },
  {
   "cell_type": "markdown",
   "metadata": {},
   "source": [
    "- [alternatingSums](https://app.codesignal.com/arcade/intro/level-4/cC5QuL9fqvZjXJsW9)"
   ]
  },
  {
   "cell_type": "code",
   "execution_count": 1,
   "metadata": {},
   "outputs": [],
   "source": [
    "def alternatingSums(a):\n",
    "    sumOfTeam1 = 0\n",
    "    sumOfTeam2 = 0\n",
    "    \n",
    "    if len(a)%2 == 1:\n",
    "        a.append(0)\n",
    "    \n",
    "    for i, weight in enumerate(a):\n",
    "        if i%2 == 0:\n",
    "            sumOfTeam1 += weight\n",
    "        else:\n",
    "            sumOfTeam2 += weight\n",
    "           \n",
    "    answer = [sumOfTeam1, sumOfTeam2]\n",
    "    return answer"
   ]
  },
  {
   "cell_type": "markdown",
   "metadata": {},
   "source": [
    "- [addBorder](https://app.codesignal.com/arcade/intro/level-4/ZCD7NQnED724bJtjN)"
   ]
  },
  {
   "cell_type": "code",
   "execution_count": 2,
   "metadata": {},
   "outputs": [],
   "source": [
    "def addBorder(picture):\n",
    "    \n",
    "    pictureHorizontalLength = len(picture[0])\n",
    "    border = \"*\" * (pictureHorizontalLength+2)\n",
    "    \n",
    "    borderedPic = []\n",
    "    borderedPic.append(border)\n",
    "    \n",
    "    for element in picture:\n",
    "        borderedElement = \"*\" + element + \"*\"\n",
    "        borderedPic.append(borderedElement)\n",
    "    else:\n",
    "        borderedPic.append(border)\n",
    "        \n",
    "    return borderedPic"
   ]
  },
  {
   "cell_type": "markdown",
   "metadata": {},
   "source": [
    "- [areSimilar](https://app.codesignal.com/arcade/intro/level-4/xYXfzQmnhBvEKJwXP)"
   ]
  },
  {
   "cell_type": "code",
   "execution_count": 3,
   "metadata": {},
   "outputs": [],
   "source": [
    "def areSimilar(a, b):\n",
    "\n",
    "    differentIdxList = []\n",
    "    \n",
    "    for i, (aElement, bElement) in enumerate(zip(a,b)):\n",
    "        if aElement != bElement:\n",
    "            differentIdxList.append(i)\n",
    "            \n",
    "        if len(differentIdxList) == 2:\n",
    "            break\n",
    "    \n",
    "    if not differentIdxList:\n",
    "        return True\n",
    "    else:\n",
    "        a[differentIdxList[0]], a[differentIdxList[1]] = a[differentIdxList[1]], a[differentIdxList[0]]\n",
    "        \n",
    "    if a == b:\n",
    "        return True\n",
    "    else:\n",
    "        return False"
   ]
  },
  {
   "cell_type": "markdown",
   "metadata": {},
   "source": [
    "- [arrayChange](https://app.codesignal.com/arcade/intro/level-4/xvkRbxYkdHdHNCKjg)"
   ]
  },
  {
   "cell_type": "code",
   "execution_count": 4,
   "metadata": {},
   "outputs": [],
   "source": [
    "def arrayChange(inputArray):\n",
    "\n",
    "    changeCount = 0\n",
    "    \n",
    "    for i in range(1, len(inputArray)):\n",
    "        if inputArray[i] <= inputArray[i-1]:\n",
    "            changeCount += (inputArray[i-1] - inputArray[i] + 1)\n",
    "            inputArray[i] = inputArray[i-1] + 1\n",
    "            \n",
    "    return changeCount"
   ]
  },
  {
   "cell_type": "markdown",
   "metadata": {},
   "source": [
    "- [palindromeRearranging](https://app.codesignal.com/arcade/intro/level-4/Xfeo7r9SBSpo3Wico)"
   ]
  },
  {
   "cell_type": "code",
   "execution_count": 6,
   "metadata": {},
   "outputs": [],
   "source": [
    "def palindromeRearranging(inputString):\n",
    "    charSet = set(inputString)\n",
    "    countOfElement = []\n",
    "    \n",
    "    for char in charSet:\n",
    "        countOfChar = inputString.count(char)\n",
    "        countOfElement.append(countOfChar)\n",
    "    \n",
    "    oddCounter = 0\n",
    "    \n",
    "    for i in countOfElement:\n",
    "        if i%2 == 1:\n",
    "            oddCounter += 1\n",
    "            \n",
    "        if oddCounter>1:\n",
    "            return False\n",
    "    else:\n",
    "        return True"
   ]
  }
 ],
 "metadata": {
  "kernelspec": {
   "display_name": "Python 3.7.6 64-bit ('Basicenv': conda)",
   "language": "python",
   "name": "python37664bitbasicenvconda67009c115e7d469fb52b40873612ad24"
  },
  "language_info": {
   "codemirror_mode": {
    "name": "ipython",
    "version": 3
   },
   "file_extension": ".py",
   "mimetype": "text/x-python",
   "name": "python",
   "nbconvert_exporter": "python",
   "pygments_lexer": "ipython3",
   "version": "3.7.6"
  }
 },
 "nbformat": 4,
 "nbformat_minor": 4
}
