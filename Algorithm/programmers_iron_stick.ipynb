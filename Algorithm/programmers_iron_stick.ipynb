{
 "cells": [
  {
   "cell_type": "markdown",
   "metadata": {},
   "source": [
    "# 쇠막대기"
   ]
  },
  {
   "cell_type": "code",
   "execution_count": null,
   "metadata": {},
   "outputs": [],
   "source": [
    "import string\n",
    "import bisect\n",
    "\n",
    "def iron_stick(arrangement):\n",
    "    \n",
    "    def find_starting(start_list, finish):\n",
    "        idx = bisect.bisect(start_list,finish)\n",
    "        starting = start_list.pop(idx-1)\n",
    "        return starting\n",
    "    \n",
    "    changed_arr = arrangement.replace('()', 'X')\n",
    "    start_idx = []\n",
    "    finish_idx = []\n",
    "    \n",
    "    for i, idx in enumerate(changed_arr):\n",
    "        if idx == '(':\n",
    "            start_idx.append(i)\n",
    "        elif idx == ')':\n",
    "            finish_idx.append(i)\n",
    "\n",
    "    answer = 0\n",
    "    \n",
    "    for finishing in finish_idx:\n",
    "        starting = find_starting(start_idx, finishing)\n",
    "        count_x = changed_arr[starting:finishing].count('X')\n",
    "        answer += (count_x + 1)\n",
    "    \n",
    "    return answer"
   ]
  }
 ],
 "metadata": {
  "kernelspec": {
   "display_name": "Python 3",
   "language": "python",
   "name": "python3"
  },
  "language_info": {
   "codemirror_mode": {
    "name": "ipython",
    "version": 3
   },
   "file_extension": ".py",
   "mimetype": "text/x-python",
   "name": "python",
   "nbconvert_exporter": "python",
   "pygments_lexer": "ipython3",
   "version": "3.7.6"
  }
 },
 "nbformat": 4,
 "nbformat_minor": 4
}
