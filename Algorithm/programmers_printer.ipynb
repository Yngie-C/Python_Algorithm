{
 "cells": [
  {
   "cell_type": "markdown",
   "metadata": {},
   "source": [
    "# 프린터 "
   ]
  },
  {
   "cell_type": "markdown",
   "metadata": {},
   "source": [
    "- [문제 링크](https://programmers.co.kr/learn/courses/30/lessons/42587)"
   ]
  },
  {
   "cell_type": "code",
   "execution_count": null,
   "metadata": {},
   "outputs": [],
   "source": [
    "def printer(priorities, location):\n",
    "    docPriorTuple = [(priorities[i], i) for i in range(len(priorities))]\n",
    "    docPriorTupleCopy = [(priorities[i], i) for i in range(len(priorities))]\n",
    "    n = 0\n",
    "    \n",
    "    while docPriorTupleCopy[location] in docPriorTuple:\n",
    "        if docPriorTuple[0][0] == max(priorities):\n",
    "            docPriorTuple.pop(0)\n",
    "            priorities.pop(0)\n",
    "            n+=1\n",
    "        else:\n",
    "            docPriorTuple.append(docPriorTuple.pop(0))            \n",
    "            priorities.append(priorities.pop(0))\n",
    "        \n",
    "    answer = n\n",
    "    return answer"
   ]
  }
 ],
 "metadata": {
  "kernelspec": {
   "display_name": "Python 3",
   "language": "python",
   "name": "python3"
  },
  "language_info": {
   "codemirror_mode": {
    "name": "ipython",
    "version": 3
   },
   "file_extension": ".py",
   "mimetype": "text/x-python",
   "name": "python",
   "nbconvert_exporter": "python",
   "pygments_lexer": "ipython3",
   "version": "3.7.6"
  }
 },
 "nbformat": 4,
 "nbformat_minor": 4
}
