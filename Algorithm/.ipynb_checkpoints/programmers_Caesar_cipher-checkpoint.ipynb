{
 "cells": [
  {
   "cell_type": "markdown",
   "metadata": {},
   "source": [
    "# 시저 암호"
   ]
  },
  {
   "cell_type": "markdown",
   "metadata": {},
   "source": [
    "- [문제 링크](https://programmers.co.kr/learn/courses/30/lessons/12926)"
   ]
  },
  {
   "cell_type": "code",
   "execution_count": null,
   "metadata": {},
   "outputs": [],
   "source": [
    "def Caesar_cipher(s, n):\n",
    "    answer = ''\n",
    "    for i in range(len(s)):\n",
    "        if s[i] == \" \":\n",
    "            answer += s[i]\n",
    "        elif ord('A') <= ord(s[i]) <= ord('Z'):\n",
    "            answer += chr(((ord(s[i])+n)-ord('A'))%26+ord('A'))\n",
    "        elif ord('a') <= ord(s[i]) <= ord('z'):\n",
    "            answer += chr(((ord(s[i])+n)-ord('a'))%26+ord('a'))\n",
    "\n",
    "    return answer"
   ]
  }
 ],
 "metadata": {
  "kernelspec": {
   "display_name": "Python 3",
   "language": "python",
   "name": "python3"
  },
  "language_info": {
   "codemirror_mode": {
    "name": "ipython",
    "version": 3
   },
   "file_extension": ".py",
   "mimetype": "text/x-python",
   "name": "python",
   "nbconvert_exporter": "python",
   "pygments_lexer": "ipython3",
   "version": "3.7.6"
  }
 },
 "nbformat": 4,
 "nbformat_minor": 4
}
