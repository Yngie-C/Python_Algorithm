{
 "cells": [
  {
   "cell_type": "markdown",
   "metadata": {},
   "source": [
    "# 주식가격"
   ]
  },
  {
   "cell_type": "markdown",
   "metadata": {},
   "source": [
    "- [문제 링크](https://programmers.co.kr/learn/courses/30/lessons/42584?language=python3)"
   ]
  },
  {
   "cell_type": "code",
   "execution_count": 2,
   "metadata": {},
   "outputs": [],
   "source": [
    "def stock_price(prices):\n",
    "    answer = [0 for i in range(len(prices))]\n",
    "    \n",
    "    for idx1 in range(len(prices)):\n",
    "        for idx2 in range(idx1+1, len(prices)):\n",
    "            if prices[idx1] <= prices[idx2]:\n",
    "                answer[idx1] += 1\n",
    "            else:\n",
    "                answer[idx1] += 1\n",
    "                break\n",
    "                \n",
    "    return answer"
   ]
  }
 ],
 "metadata": {
  "kernelspec": {
   "display_name": "Python 3",
   "language": "python",
   "name": "python3"
  },
  "language_info": {
   "codemirror_mode": {
    "name": "ipython",
    "version": 3
   },
   "file_extension": ".py",
   "mimetype": "text/x-python",
   "name": "python",
   "nbconvert_exporter": "python",
   "pygments_lexer": "ipython3",
   "version": "3.7.6"
  }
 },
 "nbformat": 4,
 "nbformat_minor": 4
}
