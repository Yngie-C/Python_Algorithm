{
 "cells": [
  {
   "cell_type": "markdown",
   "metadata": {},
   "source": [
    "### No.1"
   ]
  },
  {
   "cell_type": "code",
   "execution_count": 1,
   "metadata": {},
   "outputs": [
    {
     "name": "stdout",
     "output_type": "stream",
     "text": [
      "Red, Blue, Green 중에서 좋아하는 색을 입력하세요.green\n",
      "I'm green lantern\n",
      "I'm green lantern\n",
      "I'm green lantern\n"
     ]
    }
   ],
   "source": [
    "user_input = input(\"Red, Blue, Green 중에서 좋아하는 색을 입력하세요.\")\n",
    "\n",
    "if (user_input.lower() == \"red\"):\n",
    "    user_char = \"iron man\"\n",
    "    num = 5\n",
    "elif (user_input.lower() == \"blue\"):\n",
    "    user_char = \"super man\"\n",
    "    num = 10\n",
    "else:\n",
    "    user_char = \"green lantern\"\n",
    "    num = 3\n",
    "    \n",
    "i = 0\n",
    "while (i < num):\n",
    "    print(\"I'm %s\" %user_char)\n",
    "    i += 1"
   ]
  },
  {
   "cell_type": "code",
   "execution_count": 2,
   "metadata": {},
   "outputs": [
    {
     "name": "stdout",
     "output_type": "stream",
     "text": [
      "Red, Blue, Green 중에서 좋아하는 색을 입력하세요.1\n",
      "잘못 입력하셨습니다. 다시 입력해주세요.\n",
      "Red, Blue, Green 중에서 좋아하는 색을 입력하세요.red\n",
      "I'm iron man\n",
      "I'm iron man\n",
      "I'm iron man\n",
      "I'm iron man\n",
      "I'm iron man\n"
     ]
    }
   ],
   "source": [
    "while (True) :\n",
    "    user_input = input(\"Red, Blue, Green 중에서 좋아하는 색을 입력하세요.\")\n",
    "    \n",
    "    if (user_input.lower() == \"red\"):\n",
    "        user_char = \"iron man\"\n",
    "        num = 5\n",
    "        break\n",
    "    elif (user_input.lower() == \"blue\"):\n",
    "        user_char = \"super man\"\n",
    "        num = 10\n",
    "        break\n",
    "    elif (user_input.lower() == \"green\"):\n",
    "        user_char = \"green lantern\"\n",
    "        num = 3\n",
    "    else:\n",
    "        print(\"잘못 입력하셨습니다. 다시 입력해주세요.\")\n",
    "        continue\n",
    "        \n",
    "for i in range(num):\n",
    "    print(\"I'm %s\" %user_char)"
   ]
  },
  {
   "cell_type": "markdown",
   "metadata": {},
   "source": [
    "### No.2"
   ]
  },
  {
   "cell_type": "code",
   "execution_count": 3,
   "metadata": {},
   "outputs": [
    {
     "name": "stdout",
     "output_type": "stream",
     "text": [
      "이기창\n"
     ]
    }
   ],
   "source": [
    "while (1):\n",
    "    print(\"이기창\")\n",
    "    break\n",
    "\n",
    "# 편의상 break. 풀이에는 생략"
   ]
  },
  {
   "cell_type": "markdown",
   "metadata": {},
   "source": [
    "### No.3"
   ]
  },
  {
   "cell_type": "code",
   "execution_count": 5,
   "metadata": {},
   "outputs": [
    {
     "name": "stdout",
     "output_type": "stream",
     "text": [
      "숫자를 입력해주세요.1\n",
      "숫자를 입력해주세요.5\n",
      "숫자를 입력해주세요.12\n",
      "숫자를 입력해주세요.45\n",
      "숫자를 입력해주세요.5\n",
      "숫자를 입력해주세요.33\n",
      "101.0\n"
     ]
    }
   ],
   "source": [
    "sum = 0\n",
    "\n",
    "while (sum <= 100):\n",
    "    user_input = float(input(\"숫자를 입력해주세요.\"))\n",
    "    sum += user_input\n",
    "    \n",
    "print(sum)"
   ]
  },
  {
   "cell_type": "markdown",
   "metadata": {},
   "source": [
    "### No.4"
   ]
  },
  {
   "cell_type": "code",
   "execution_count": 7,
   "metadata": {},
   "outputs": [
    {
     "name": "stdout",
     "output_type": "stream",
     "text": [
      "[3, 6, 9, 12, 15, 18, 21, 24, 27, 30, 33, 36, 39, 42, 45, 48]\n"
     ]
    }
   ],
   "source": [
    "list_i = []\n",
    "for i in range(1,50):\n",
    "    if (i % 3 == 0):\n",
    "        list_i.append(i)\n",
    "        \n",
    "print(list_i)"
   ]
  },
  {
   "cell_type": "code",
   "execution_count": 10,
   "metadata": {},
   "outputs": [
    {
     "name": "stdout",
     "output_type": "stream",
     "text": [
      "[3, 6, 9, 12, 15, 18, 21, 24, 27, 30, 33, 36, 39, 42, 45, 48]\n"
     ]
    }
   ],
   "source": [
    "list_i2 = []\n",
    "for i in range(3, 50, 3):\n",
    "    list_i2.append(i)\n",
    "\n",
    "print(list_i2)"
   ]
  },
  {
   "cell_type": "markdown",
   "metadata": {},
   "source": [
    "### No. 5"
   ]
  },
  {
   "cell_type": "code",
   "execution_count": 16,
   "metadata": {},
   "outputs": [
    {
     "data": {
      "text/plain": [
       "[1,\n",
       " 3,\n",
       " 5,\n",
       " 7,\n",
       " 9,\n",
       " 11,\n",
       " 13,\n",
       " 15,\n",
       " 17,\n",
       " 19,\n",
       " 21,\n",
       " 23,\n",
       " 25,\n",
       " 27,\n",
       " 29,\n",
       " 31,\n",
       " 33,\n",
       " 35,\n",
       " 37,\n",
       " 39,\n",
       " 41,\n",
       " 43,\n",
       " 45,\n",
       " 47,\n",
       " 49]"
      ]
     },
     "execution_count": 16,
     "metadata": {},
     "output_type": "execute_result"
    }
   ],
   "source": [
    "[i for i in range(1, 50) if (i % 2 != 0)]"
   ]
  },
  {
   "cell_type": "markdown",
   "metadata": {},
   "source": [
    "### No.6"
   ]
  },
  {
   "cell_type": "code",
   "execution_count": 15,
   "metadata": {},
   "outputs": [],
   "source": [
    "for i in range(2,20):\n",
    "    for j in range(1, 20):\n",
    "        break\n",
    "        print(i, \"X\", j, \"=\", i*j)\n",
    "\n",
    "# break 생략하면 됨"
   ]
  },
  {
   "cell_type": "markdown",
   "metadata": {},
   "source": [
    "### No.7"
   ]
  },
  {
   "cell_type": "code",
   "execution_count": 19,
   "metadata": {},
   "outputs": [
    {
     "name": "stdout",
     "output_type": "stream",
     "text": [
      "숫자를 넣으세요10\n"
     ]
    },
    {
     "data": {
      "text/plain": [
       "100.0"
      ]
     },
     "execution_count": 19,
     "metadata": {},
     "output_type": "execute_result"
    }
   ],
   "source": [
    "def mul_ten():\n",
    "    num1 = float(input(\"숫자를 넣으세요\"))\n",
    "    return num1 * 10\n",
    "\n",
    "mul_ten()"
   ]
  },
  {
   "cell_type": "markdown",
   "metadata": {},
   "source": [
    "### No.8"
   ]
  },
  {
   "cell_type": "code",
   "execution_count": 24,
   "metadata": {},
   "outputs": [
    {
     "name": "stdout",
     "output_type": "stream",
     "text": [
      "숫자를 입력하세요.1\n",
      "숫자를 입력하세요.2\n",
      "Small\n",
      "Small\n",
      "Small\n",
      "Small\n",
      "Small\n"
     ]
    }
   ],
   "source": [
    "def add_num():\n",
    "    num1 = float(input(\"숫자를 입력하세요.\"))\n",
    "    num2 = float(input(\"숫자를 입력하세요.\"))\n",
    "    \n",
    "    if ((num1 + num2) > 10):\n",
    "        num3 = 10\n",
    "        string = \"Big\"\n",
    "    else:\n",
    "        num3 = 5\n",
    "        string = \"Small\"\n",
    "        \n",
    "    [print(\"%s\" %string) for i in range(num3)]\n",
    "    \n",
    "add_num()"
   ]
  },
  {
   "cell_type": "code",
   "execution_count": 27,
   "metadata": {},
   "outputs": [
    {
     "name": "stdout",
     "output_type": "stream",
     "text": [
      "숫자를 입력하세요.1\n",
      "숫자를 입력하세요.2\n",
      "Small\n",
      "Small\n",
      "Small\n",
      "Small\n",
      "Small\n"
     ]
    }
   ],
   "source": [
    "def add_num2(num1, num2):\n",
    "    \n",
    "    if ((num1 + num2) > 10):\n",
    "        num3 = 10\n",
    "        string = \"Big\"\n",
    "    else:\n",
    "        num3 = 5\n",
    "        string = \"Small\"\n",
    "        \n",
    "    [print(\"%s\" %string) for i in range(num3)]\n",
    "\n",
    "user_input1 = float(input(\"숫자를 입력하세요.\"))\n",
    "user_input2 = float(input(\"숫자를 입력하세요.\"))\n",
    "add_num2(user_input1, user_input2)"
   ]
  },
  {
   "cell_type": "markdown",
   "metadata": {},
   "source": [
    "### No.9"
   ]
  },
  {
   "cell_type": "code",
   "execution_count": 3,
   "metadata": {},
   "outputs": [
    {
     "name": "stdout",
     "output_type": "stream",
     "text": [
      "숫자를 입력하세요.10\n",
      "숫자를 입력하세요.4\n"
     ]
    },
    {
     "data": {
      "text/plain": [
       "4.0"
      ]
     },
     "execution_count": 3,
     "metadata": {},
     "output_type": "execute_result"
    }
   ],
   "source": [
    "def small_num(num1, num2):\n",
    "    if (num1 <= num2):\n",
    "        return num1\n",
    "    else:\n",
    "        return num2\n",
    "\n",
    "user_input3 = float(input(\"숫자를 입력하세요.\"))\n",
    "user_input4 = float(input(\"숫자를 입력하세요.\"))\n",
    "small_num(user_input3, user_input4)"
   ]
  },
  {
   "cell_type": "markdown",
   "metadata": {},
   "source": [
    "### No.10"
   ]
  },
  {
   "cell_type": "code",
   "execution_count": 6,
   "metadata": {},
   "outputs": [
    {
     "name": "stdout",
     "output_type": "stream",
     "text": [
      "숫자를 입력하세요.30\n",
      "숫자를 입력하세요.20\n",
      "숫자를 입력하세요.10\n",
      "Excellent\n",
      "Excellent\n",
      "Excellent\n",
      "Excellent\n",
      "Excellent\n"
     ]
    }
   ],
   "source": [
    "def sum_num3():\n",
    "    num1 = float(input(\"숫자를 입력하세요.\"))\n",
    "    num2 = float(input(\"숫자를 입력하세요.\"))\n",
    "    num3 = float(input(\"숫자를 입력하세요.\"))\n",
    "    summation = num1 + num2 + num3\n",
    "    \n",
    "    if (summation > 50):\n",
    "        strings = \"Excellent\"\n",
    "        repeat = 5\n",
    "    elif (summation < 10):\n",
    "        strings = \"Bad\"\n",
    "        repeat = 3\n",
    "    else:\n",
    "        strings = \"Good\"\n",
    "        repeat = 4\n",
    "    \n",
    "    [print(\"%s\" %strings) for i in range(repeat)]\n",
    "    \n",
    "sum_num3()"
   ]
  },
  {
   "cell_type": "code",
   "execution_count": null,
   "metadata": {},
   "outputs": [],
   "source": []
  }
 ],
 "metadata": {
  "kernelspec": {
   "display_name": "Python 3",
   "language": "python",
   "name": "python3"
  },
  "language_info": {
   "codemirror_mode": {
    "name": "ipython",
    "version": 3
   },
   "file_extension": ".py",
   "mimetype": "text/x-python",
   "name": "python",
   "nbconvert_exporter": "python",
   "pygments_lexer": "ipython3",
   "version": "3.7.3"
  }
 },
 "nbformat": 4,
 "nbformat_minor": 2
}
