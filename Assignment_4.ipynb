{
 "cells": [
  {
   "cell_type": "markdown",
   "metadata": {},
   "source": [
    "### No.2"
   ]
  },
  {
   "cell_type": "code",
   "execution_count": 1,
   "metadata": {},
   "outputs": [
    {
     "name": "stdout",
     "output_type": "stream",
     "text": [
      "[7.616365132157044, 3.7083018326983974, 7.7370672986392055, 7.429281985264544, 8.763359428809403, 8.913193444559546, 7.826010202131405, 4.468022208316001, 6.364047889997689, 8.318587806686368, 2.6114084786800156, 8.143533945069633, 6.383095579878227, 2.22904203327468, 3.4276813417653513, 5.1697656878299965, 3.6563710923634876, 2.8066220853957837, 3.917186676900757, 4.968225469803132, 7.177490932165478, 0.9165348900922003, 5.933988677641277, 6.009762959030948, 5.6388993932009495, 2.1954066478588175, 3.0283312363424653, 2.7160850862378476, 8.299483397951459, 4.828738416935837]\n",
      "[7, 4, 7, 7, 8, 8, 7, 4, 6, 8, 3, 8, 6, 3, 3, 5, 4, 3, 4, 5, 7, 1, 6, 6, 6, 3, 3, 3, 8, 5]\n"
     ]
    }
   ],
   "source": [
    "import random\n",
    "import math\n",
    "\n",
    "list2 = [random.uniform(0,9) for i in range(30)]\n",
    "print(list2)\n",
    "list2_1 = []\n",
    "\n",
    "for j in list2:\n",
    "    if (0 <= j < 3):\n",
    "        int_num = math.ceil(j)\n",
    "        list2_1.append(int_num)\n",
    "    elif (3 <= j < 7):\n",
    "        int_num = round(j)\n",
    "        list2_1.append(int_num)\n",
    "    else:\n",
    "        int_num = math.floor(j)\n",
    "        list2_1.append(int_num)\n",
    "print(list2_1)"
   ]
  },
  {
   "cell_type": "markdown",
   "metadata": {},
   "source": [
    "### No.3"
   ]
  },
  {
   "cell_type": "code",
   "execution_count": 2,
   "metadata": {},
   "outputs": [
    {
     "name": "stdout",
     "output_type": "stream",
     "text": [
      "Min :  2 \n",
      "Max :  99\n",
      "Min Index :  24 \n",
      "Max Index :  18\n"
     ]
    }
   ],
   "source": [
    "list3 = [random.randint(1, 100) for i in range(50)]\n",
    "\n",
    "list3_1 = sorted(list3)\n",
    "min_n = list3_1[0]\n",
    "max_n = list3_1[-1]\n",
    "print(\"Min : \", list3_1[0], \"\\nMax : \", list3_1[-1])\n",
    "print(\"Min Index : \", list3.index(min_n), \"\\nMax Index : \",list3.index(max_n))"
   ]
  },
  {
   "cell_type": "markdown",
   "metadata": {},
   "source": [
    "### No.4"
   ]
  },
  {
   "cell_type": "code",
   "execution_count": 3,
   "metadata": {},
   "outputs": [
    {
     "name": "stdout",
     "output_type": "stream",
     "text": [
      "104\n",
      "38\n"
     ]
    }
   ],
   "source": [
    "list4 = [num4 for num4 in range(1,201)]\n",
    "random.shuffle(list4)\n",
    "print(list4.index(1))\n",
    "print(list4.index(200))"
   ]
  },
  {
   "cell_type": "markdown",
   "metadata": {},
   "source": [
    "### No.5"
   ]
  },
  {
   "cell_type": "code",
   "execution_count": 4,
   "metadata": {},
   "outputs": [
    {
     "name": "stdout",
     "output_type": "stream",
     "text": [
      "정사각형의 넓이를 입력해주세요.4\n",
      "2.0\n"
     ]
    }
   ],
   "source": [
    "S = float(input(\"정사각형의 넓이를 입력해주세요.\"))\n",
    "length = math.sqrt(S)\n",
    "print(length)"
   ]
  },
  {
   "cell_type": "markdown",
   "metadata": {},
   "source": [
    "### No.6"
   ]
  },
  {
   "cell_type": "code",
   "execution_count": 54,
   "metadata": {},
   "outputs": [
    {
     "name": "stdout",
     "output_type": "stream",
     "text": [
      "[2, 3, 5, 7, 11, 13, 17, 19, 23, 29, 31, 37, 41, 43, 47]\n"
     ]
    }
   ],
   "source": [
    "list6 = [num6 for num6 in range(1, 51)]\n",
    "\n",
    "i = 0\n",
    "\n",
    "while (list6[i] < math.sqrt(50)):\n",
    "    if (list6[i] == 1):\n",
    "        list6.remove(1)\n",
    "    else:\n",
    "        j = i+1\n",
    "        while (j < len(list6)):\n",
    "            if ((list6[j] % list6[i]) == 0):\n",
    "                list6.remove(list6[j])\n",
    "            j += 1\n",
    "        i += 1\n",
    "#         not_prime = list6[i] * mul\n",
    "#         while (not_prime <= 50):\n",
    "#             try:\n",
    "#                 list6.remove(not_prime)\n",
    "#                 mul += 1\n",
    "#             except ValueError:\n",
    "#                 mul += 1\n",
    "#                 continue\n",
    "                \n",
    "print(list6)"
   ]
  },
  {
   "cell_type": "markdown",
   "metadata": {},
   "source": [
    "### No.7"
   ]
  },
  {
   "cell_type": "code",
   "execution_count": null,
   "metadata": {},
   "outputs": [],
   "source": []
  },
  {
   "cell_type": "markdown",
   "metadata": {},
   "source": [
    "### No.8"
   ]
  },
  {
   "cell_type": "code",
   "execution_count": 13,
   "metadata": {},
   "outputs": [
    {
     "name": "stdout",
     "output_type": "stream",
     "text": [
      "[31, 38, 87, 408, 323, 329, 120, 321, 13, 24, 340, 358, 292, 395, 341, 56, 406, 489, 52, 268, 167, 180, 352, 6, 227, 350, 405, 40, 110, 199, 324, 415, 163, 323, 327, 485, 432, 232, 485, 474, 166, 240, 133, 71, 95, 39, 165, 186, 63, 146]\n",
      "[6, 13, 24, 31, 38, 39, 40, 52, 56, 63, 71, 87, 95, 110, 120, 133, 146, 163, 165, 166, 167, 180, 186, 199, 227, 232, 240, 268, 292, 321, 323, 323, 324, 327, 329, 340, 341, 350, 352, 358, 395, 405, 406, 408, 415, 432, 474, 485, 485, 489]\n"
     ]
    }
   ],
   "source": [
    "list8 = [random.randint(1,500) for num8 in range(1, 51)]\n",
    "print(list8)\n",
    "\n",
    "for i in range(len(list8)):\n",
    "    for j in range(len(list8)-1):\n",
    "        if (list8[j] > list8[j+1]):\n",
    "            temp = list8[j]\n",
    "            list8[j] = list8[j+1]\n",
    "            list8[j+1] = temp\n",
    "            \n",
    "print(list8)"
   ]
  },
  {
   "cell_type": "markdown",
   "metadata": {},
   "source": [
    "### No.9"
   ]
  },
  {
   "cell_type": "code",
   "execution_count": 29,
   "metadata": {},
   "outputs": [
    {
     "name": "stdout",
     "output_type": "stream",
     "text": [
      "[402, 54, 80, 140, 437, 461, 466, 237, 38, 105, 443, 212, 262, 77, 333, 201, 181, 71, 190, 483, 489, 155, 450, 346, 447, 137, 60, 217, 444, 57, 324, 208, 320, 375, 331, 147, 463, 163, 314, 156, 43, 133, 460, 66, 448, 459, 263, 366, 277, 42]\n",
      "[38, 42, 43, 54, 57, 60, 66, 71, 77, 80, 105, 133, 137, 140, 147, 155, 156, 163, 181, 190, 201, 208, 212, 217, 237, 262, 263, 277, 314, 320, 324, 331, 333, 346, 366, 375, 402, 437, 443, 444, 447, 448, 450, 459, 460, 461, 463, 466, 483, 489]\n"
     ]
    }
   ],
   "source": [
    "list9 = [random.randint(1,500) for num9 in range(1, 51)]\n",
    "print(list9)\n",
    "# min_num = list9[0]\n",
    "# min_index = list9.index(min_num)\n",
    "for j in range(len(list9)):\n",
    "    min_num = list9[j]\n",
    "    min_index = list9.index(min_num)\n",
    "    for i in range(j+1, len(list9)):\n",
    "        if (list9[i] < min_num):\n",
    "            min_num = list9[i]\n",
    "            min_index = i\n",
    "    list9[min_index] = list9[j]\n",
    "    list9[j] = min_num\n",
    "\n",
    "print(list9)"
   ]
  },
  {
   "cell_type": "markdown",
   "metadata": {},
   "source": [
    "### No.10"
   ]
  },
  {
   "cell_type": "code",
   "execution_count": 45,
   "metadata": {},
   "outputs": [
    {
     "name": "stdout",
     "output_type": "stream",
     "text": [
      "[3, 12, 23, 51, 58, 63, 66, 77, 85, 87, 88, 94, 111, 118, 122, 129, 164, 166, 176, 219, 240, 246, 254, 265, 272, 279, 283, 287, 304, 328, 338, 341, 342, 346, 348, 356, 368, 371, 378, 386, 390, 398, 417, 422, 426, 437, 445, 478, 480, 485]\n",
      "Wanted Number is : 219\n",
      "19\n",
      "Right\n"
     ]
    }
   ],
   "source": [
    "list10 = [random.randint(1,500) for num9 in range(1, 51)]\n",
    "list10_sort = sorted(list10)\n",
    "print(list10_sort)\n",
    "\n",
    "wtd_num = int(input(\"Wanted Number is : \"))\n",
    "\n",
    "first = 0\n",
    "last = 49\n",
    "\n",
    "while 1:\n",
    "    med_index = math.floor((first+last)/2)\n",
    "    if (list10_sort[med_index] == wtd_num):\n",
    "        print(med_index)\n",
    "        break\n",
    "    elif (list10_sort[med_index] > wtd_num):\n",
    "        last = med_index - 1\n",
    "    else:\n",
    "        first = med_index + 1\n",
    "        \n",
    "if (list10_sort.index(wtd_num) == med_index):\n",
    "    print(\"Right\")"
   ]
  },
  {
   "cell_type": "code",
   "execution_count": null,
   "metadata": {},
   "outputs": [],
   "source": []
  }
 ],
 "metadata": {
  "kernelspec": {
   "display_name": "Python 3",
   "language": "python",
   "name": "python3"
  },
  "language_info": {
   "codemirror_mode": {
    "name": "ipython",
    "version": 3
   },
   "file_extension": ".py",
   "mimetype": "text/x-python",
   "name": "python",
   "nbconvert_exporter": "python",
   "pygments_lexer": "ipython3",
   "version": "3.7.3"
  }
 },
 "nbformat": 4,
 "nbformat_minor": 2
}
